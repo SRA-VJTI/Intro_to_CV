{
  "nbformat": 4,
  "nbformat_minor": 0,
  "metadata": {
    "colab": {
      "name": "Tasks.ipynb",
      "provenance": [],
      "collapsed_sections": [],
      "include_colab_link": true
    },
    "kernelspec": {
      "name": "python3",
      "display_name": "Python 3"
    },
    "language_info": {
      "name": "python"
    }
  },
  "cells": [
    {
      "cell_type": "markdown",
      "metadata": {
        "id": "view-in-github",
        "colab_type": "text"
      },
      "source": [
        "<a href=\"https://colab.research.google.com/github/hashmis79/Intro_to_CV/blob/main/Intro_to_CV/cv-basics/Playing_With_Matrices/Tasks.ipynb\" target=\"_parent\"><img src=\"https://colab.research.google.com/assets/colab-badge.svg\" alt=\"Open In Colab\"/></a>"
      ]
    },
    {
      "cell_type": "markdown",
      "metadata": {
        "id": "GXoHHWP2E0pd"
      },
      "source": [
        "# **Tasks**\n",
        "## 1) Creating a filled-square in an image:\n",
        "> In this task we will have to take the length, breadth of the square and coordinates of the top left pixel of the square as an input from the user. A filled square of the given coordinates and dimensions should be created in the image.\n",
        "\n",
        "|  |  |\n",
        "|:----:|:----:|\n",
        "|**INPUT IMAGE** | **OUTPUT IMAGE**|\n",
        "|![](https://drive.google.com/uc?export=view&id=1lpLRWQamrUAeBA8BYRji2JlPm-ZQ5TwM)|!![](https://drive.google.com/uc?export=view&id=1gzY6VMLbpGsUgCbVzugZcNT4jM_uFVe_)|\n",
        "\n",
        "## 2) Creating a filled-circle in an image:\n",
        "> In this task we will have to take the radius and coordinates of the center of the circle as an input from the user. A filled circle of the given coordinates and dimensions should be created in the image.\n",
        "\n",
        "|  |  |\n",
        "|:----:|:----:|\n",
        "|**INPUT IMAGE** | **OUTPUT IMAGE**|\n",
        "|![](https://drive.google.com/uc?export=view&id=1lpLRWQamrUAeBA8BYRji2JlPm-ZQ5TwM)|![](https://drive.google.com/uc?export=view&id=1CODrv1V0AW6GS8r226J419wJyW0Kw2DR)|\n",
        "\n",
        "## 3) Rotating an image by 180 degrees\n",
        "> In this task you will have to Rotate the given image by 180 degrees.\n",
        "\n",
        "[Note : You cannot use the method we used in the demo]\n",
        "\n",
        "|  |  |\n",
        "|:----:|:----:|\n",
        "|**INPUT IMAGE** | **OUTPUT IMAGE**|\n",
        "|![](https://drive.google.com/uc?export=view&id=1lpLRWQamrUAeBA8BYRji2JlPm-ZQ5TwM)|![](https://drive.google.com/uc?export=view&id=1EZGODMr7o9s5-4OeIyJhY7yz9mbFTVuM)|"
      ]
    },
    {
      "cell_type": "code",
      "metadata": {
        "id": "zkBI2Xo1Ev2o"
      },
      "source": [
        ""
      ],
      "execution_count": null,
      "outputs": []
    }
  ]
}