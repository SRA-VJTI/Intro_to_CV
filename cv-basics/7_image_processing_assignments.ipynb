{
  "nbformat": 4,
  "nbformat_minor": 0,
  "metadata": {
    "colab": {
      "name": "Assignment.ipynb",
      "provenance": [],
      "collapsed_sections": []
    },
    "kernelspec": {
      "name": "python3",
      "display_name": "Python 3"
    },
    "language_info": {
      "name": "python"
    },
    "accelerator": "GPU"
  },
  "cells": [
    {
      "cell_type": "markdown",
      "metadata": {
        "id": "pJ_qglrDQLKb"
      },
      "source": [
        "# **Playing With Matrices Assignments**"
      ]
    },
    {
      "cell_type": "markdown",
      "metadata": {
        "id": "IGQi0oH3QZVm"
      },
      "source": [
        "## **1)** a) Creating a filled-square in an image:\n",
        "> In this task we will have to take the length, breath of the square and coordinates of the top left pixel of the square as an input from the user. A filled square of the given coordinates and dimensions should be created in the image.\n",
        "\n",
        "|  |  |\n",
        "|:----:|:----:|\n",
        "|**INPUT IMAGE** | **OUTPUT IMAGE**|\n",
        "|![](/cv-basics/images/blur.jpeg)|!![](/cv-basics/images/blur_square.png)|\n",
        "\n",
        "## b) Creating a filled-circle in an image:\n",
        "> In this task we will have to take the radius and coordinates of the center of the circle as an input from the user. A filled circle of the given coordinates and dimensions should be created in the image.\n",
        "\n",
        "|  |  |\n",
        "|:----:|:----:|\n",
        "|**INPUT IMAGE** | **OUTPUT IMAGE**|\n",
        "|![](/cv-basics/images/blur.jpeg)|![](/cv-basics/images/blur_circle.png)|\n",
        "\n",
        "## **2)** a) Creating a hollow square in an image \n",
        "> In this Sub-task we will have to take the length, breadth, thickness of the border of the square and coordinates of the top left pixel of the square as an input from the user. A hollow square of the given coordinates and dimensions should be created in the image.\n",
        "\n",
        "|  |  |\n",
        "|:----:|:----:|\n",
        "|**INPUT IMAGE** | **OUTPUT IMAGE**|\n",
        "|![](/cv-basics/images/blur.jpeg)|![](/cv-basics/images/blur_hollow_sqaure.png)|\n",
        "\n",
        "* **b)** Creating a hollow circle in an image\n",
        "> In this task we will have to take the radius and coordinates of the center of the circle and also the thickness of the border as an input from the user. A hollow circle of the given coordinates and dimensions should be created in the image.\n",
        "\n",
        "|  |  |\n",
        "|:----:|:----:|\n",
        "|**INPUT IMAGE** | **OUTPUT IMAGE**|\n",
        "|![](/cv-basics/images/blur.jpeg)|![](/cv-basics/images/blur_hollow_circle.png)|\n",
        "\n",
        "## 3) Rotating an image by 180 degrees\n",
        "> In this task you will have to Rotate the given image by 180 degrees.\n",
        "\n",
        "[Note : You cannot use the method we used in the demo]\n",
        "\n",
        "|  |  |\n",
        "|:----:|:----:|\n",
        "|**INPUT IMAGE** | **OUTPUT IMAGE**|\n",
        "|![](/cv-basics/images/blur.jpeg)|![](/cv-basics/images/blur_180.png)|"
      ]
    },
    {
      "cell_type": "markdown",
      "metadata": {
        "id": "pap3EZ0OMYph"
      },
      "source": [
        "# Convolution Tasks"
      ]
    },
    {
      "cell_type": "markdown",
      "metadata": {
        "id": "0UN34O6BNjZt"
      },
      "source": [
        "***Reference*** code : "
      ]
    },
    {
      "cell_type": "code",
      "metadata": {
        "id": "OrzegBqnNl58"
      },
      "source": [
        "#############Suboptimal implementation of convolution #####################\n",
        "import cv2\n",
        "import numpy as np\n",
        "import matplotlib.pyplot as plt\n",
        "\n",
        "def convolve(kernel, orig_img):\n",
        "    #####################Flip kernel suboptimally####################\n",
        "    kernel_inv = np.copy(kernel)\n",
        "    kernel_inv[0] = kernel[2]\n",
        "    kernel_inv[2] = kernel[0]\n",
        "    kernel_inv[:, 0] = kernel_inv[:, 2]\n",
        "    kernel_inv[:, 2] = kernel_inv[:, 0]\n",
        "    #################################################################\n",
        "    img = cv2.copyMakeBorder(orig_img, 1, 1, 1, 1, cv2.BORDER_CONSTANT) # Add padding\n",
        "    res_img = orig_img.copy()\n",
        "    for i in range(1, img.shape[0] - 1):\n",
        "        for j in range(1, img.shape[1] - 1):\n",
        "                res_img[i - 1, j - 1] = np.sum(img[i - 1 : i + 2, j - 1 : j + 2] * kernel_inv[:, :])\n",
        "    return res_img\n",
        "  \n",
        "orig_img = cv2.imread(\"./Assets/dog_test.png\", 0) # Read Image\n",
        "kernel = np.array([[ 1,  1,  1], [ 0,  0,  0], [-1, -1, -1]]) # Simple vertical gradient kernel\n",
        "\n",
        "res = convolve(kernel, orig_img)\n",
        "\n",
        "orig = cv2.cvtColor(orig_img, cv2.COLOR_BGR2RGB)\n",
        "plt.imshow(orig)\n",
        "plt.show()\n",
        "plt.imshow(res, cmap = plt.cm.gray)\n",
        "plt.show()\n"
      ],
      "execution_count": null,
      "outputs": []
    },
    {
      "cell_type": "markdown",
      "metadata": {
        "id": "2vV1xPpjNLAr"
      },
      "source": [
        "## Q1. Implement Sobel edge detection with 3x3 Sobel kernels in vertical as well horizontal direction."
      ]
    },
    {
      "cell_type": "markdown",
      "metadata": {
        "id": "FqZKXWM_NWAt"
      },
      "source": [
        "## Q2. Apply Gaussian smoothing using normal 2D convolution."
      ]
    },
    {
      "cell_type": "markdown",
      "metadata": {
        "id": "yRchJ3WtNWJY"
      },
      "source": [
        "## Q3. Apply Gaussian smoothing using separable 2D convolution."
      ]
    },
    {
      "cell_type": "code",
      "metadata": {
        "id": "UnUyQGhvNgLZ"
      },
      "source": [
        ""
      ],
      "execution_count": null,
      "outputs": []
    },
    {
      "cell_type": "markdown",
      "metadata": {
        "id": "NM5-BPOvDbGq"
      },
      "source": [
        "# **Morphology Assignments**"
      ]
    },
    {
      "cell_type": "markdown",
      "metadata": {
        "id": "p9s9YUEzDiXR"
      },
      "source": [
        "## Task 1\n",
        "\n",
        "Write a code to perform Dilation only using libraries like Numpy, PIL\n",
        "\n",
        "\n",
        "### Algorithm\n",
        "\n",
        "* Initialize an array with all elements as zero and of size equal to input size. Hint => Use np.zeroes_like()\n",
        "\n",
        "\n",
        "* Create a padded image. Hint => Use np.zeros()\n",
        "\n",
        "\n",
        "* Assign the pixels of image to padded image.\n",
        "\n",
        "\n",
        "* Create 2 for loops to loop through each pixel and convolute.\n",
        "\n",
        "* If result is greater than 0 output should be 1 else 0\n",
        "\n",
        "\n"
      ]
    },
    {
      "cell_type": "code",
      "metadata": {
        "id": "z38G8LOLAz7u"
      },
      "source": [
        "import numpy as np\n",
        "from PIL import Image\n",
        "\n",
        "# First convert your input rgb image to grayscale\n",
        "# Then convert grayscale image to binary\n",
        "\n",
        "# Use this kernel\n",
        "kernel = np.array([[0, 1, 0],\n",
        "                   [1, 1, 1],\n",
        "                   [0, 1, 0]])\n",
        "\n",
        "# Write your code for Dilation here"
      ],
      "execution_count": null,
      "outputs": []
    },
    {
      "cell_type": "markdown",
      "metadata": {
        "id": "_0QtoW9BEiAL"
      },
      "source": [
        "## Task 2\n",
        "\n",
        "Write a code to perform Erosion only using libraries like Numpy, PIL\n",
        "\n",
        "\n",
        "### Algorithm\n",
        "\n",
        "* Initialize an array with all elements as zero and of size equal to input size. Hint => Use np.zeroes_like()\n",
        "\n",
        "\n",
        "* Create a padded image. Hint => Use np.zeros()\n",
        "\n",
        "\n",
        "* Assign the pixels of image to padded image:\n",
        "\n",
        "\n",
        "* Create 2 for loops to loop through each pixel and convolute.\n",
        "\n",
        "* If result is 5 then output should be 1 else 0."
      ]
    },
    {
      "cell_type": "code",
      "metadata": {
        "id": "pPjBqZ8MEuF4"
      },
      "source": [
        "# First convert your input rgb image to grayscale\n",
        "# Then convert grayscale image to binary\n",
        "\n",
        "# Google the kernel used for erosion\n",
        "\n",
        "# Write your code for Erosion here"
      ],
      "execution_count": null,
      "outputs": []
    },
    {
      "cell_type": "markdown",
      "metadata": {
        "id": "gxQaWFNPE2Ed"
      },
      "source": [
        "## Additional Problem:\n",
        "\n",
        "Write a code to perform Opening, Closing and Gradient using Numpy, PIL"
      ]
    },
    {
      "cell_type": "code",
      "metadata": {
        "id": "trVJhzdRgUqc"
      },
      "source": [
        ""
      ],
      "execution_count": null,
      "outputs": []
    },
    {
      "cell_type": "markdown",
      "metadata": {
        "id": "6RPWD_KIgVR4"
      },
      "source": [
        "# **OpenCV Assignments**"
      ]
    },
    {
      "cell_type": "markdown",
      "metadata": {
        "id": "sbmS2ak_B-uc"
      },
      "source": [
        "## Task 1\n",
        "\n",
        "Read an Image and Apply Filters to Detect Edges using OpenCV functions:\n",
        "\n",
        "1. Canny Edge Detection\n",
        "\n",
        "![](https://miro.medium.com/max/566/1*XAgKINgc2c2gNa2nV3zbNQ.png)\n",
        "\n",
        "\n",
        "2. Sobel Edge Detection\n",
        "\n",
        "![](https://gtms1337.files.wordpress.com/2013/03/cameraman.png)\n",
        "\n",
        "\n",
        "Apply Filters to Blur an Image:\n",
        "\n",
        "1. Gaussian Filter\n",
        "2. Median Filter\n",
        "3. Box Filter\n",
        "\n",
        "![](https://miro.medium.com/max/1200/1*BYhANv5m95gdqbfFIg8Msg.jpeg)\n",
        "\n",
        "\n",
        "**Additional Challenge:** \n",
        "\n",
        "Apply Edge Detection and Blur Filters on a video"
      ]
    },
    {
      "cell_type": "code",
      "metadata": {
        "id": "y3aAyrA0JcAI"
      },
      "source": [
        "# Write your Code Here\n",
        "\n",
        "# Edge Detection\n",
        "\n",
        "\n",
        "# Blur Filters"
      ],
      "execution_count": null,
      "outputs": []
    },
    {
      "cell_type": "markdown",
      "metadata": {
        "id": "hhHOqJ6VDiqI"
      },
      "source": [
        "## Task 2\n",
        "\n",
        "Apply OpenCV Functions to perform Morphological Operations:\n",
        "\n",
        "1. Erosion\n",
        "2. Dilation\n",
        "3. Gradient\n",
        "\n",
        "![](https://static.packt-cdn.com/products/9781785283932/graphics/B04554_02_15.jpg)"
      ]
    },
    {
      "cell_type": "code",
      "metadata": {
        "id": "oysetCYNJhog"
      },
      "source": [
        "# Write your Code Here\n",
        "\n",
        "# Erosion\n",
        "\n",
        "# Dilation\n",
        "\n",
        "# Gradient"
      ],
      "execution_count": null,
      "outputs": []
    },
    {
      "cell_type": "markdown",
      "metadata": {
        "id": "UBF1Dc9fEM9j"
      },
      "source": [
        "## Task 3\n",
        "\n",
        "* Blur and Downsample an image using a single function\n",
        "* Blur and Upsample an image using a single function\n",
        "* Calculate the first order image derivative in both x and y using a Sobel operator.\n"
      ]
    },
    {
      "cell_type": "code",
      "metadata": {
        "id": "EbsfkthoJkix"
      },
      "source": [
        "# Write your Code Here\n",
        "\n"
      ],
      "execution_count": null,
      "outputs": []
    },
    {
      "cell_type": "markdown",
      "metadata": {
        "id": "6rp7qXiEH2E_"
      },
      "source": [
        "## Additional Task\n",
        "\n",
        "Apply various properties of contours on an image"
      ]
    },
    {
      "cell_type": "code",
      "metadata": {
        "id": "xXQPvlrMFR0Y"
      },
      "source": [
        ""
      ],
      "execution_count": null,
      "outputs": []
    }
  ]
}