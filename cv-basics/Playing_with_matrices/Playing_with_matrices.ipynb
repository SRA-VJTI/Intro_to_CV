{
  "nbformat": 4,
  "nbformat_minor": 0,
  "metadata": {
    "colab": {
      "name": "Playing_with_matrices.ipynb",
      "provenance": [],
      "collapsed_sections": []
    },
    "kernelspec": {
      "name": "python3",
      "display_name": "Python 3"
    },
    "language_info": {
      "name": "python"
    }
  },
  "cells": [
    {
      "cell_type": "markdown",
      "metadata": {
        "id": "4a6mA9JvSeeZ"
      },
      "source": [
        "#**Playing With Matrices**"
      ]
    },
    {
      "cell_type": "code",
      "metadata": {
        "id": "0lxJulhoJckM"
      },
      "source": [
        "#Importing Libraries\n",
        "import numpy as np\n",
        "import math as m\n",
        "import matplotlib.pyplot as plt\n",
        "import cv2"
      ],
      "execution_count": null,
      "outputs": []
    },
    {
      "cell_type": "markdown",
      "metadata": {
        "id": "uOFsF2RiShP5"
      },
      "source": [
        "# **Numpy**\n",
        "\n"
      ]
    },
    {
      "cell_type": "code",
      "metadata": {
        "id": "Qg2vCwTnZvCO"
      },
      "source": [
        "# Creating a 256x256 array containing Zeros\n",
        "img=np.zeros((256,256,3),dtype=np.uint8)\n",
        "plt.imshow(img)"
      ],
      "execution_count": null,
      "outputs": []
    },
    {
      "cell_type": "markdown",
      "metadata": {
        "id": "JXTDE_9eya-o"
      },
      "source": [
        "\n",
        "## **Slicing**\n",
        "Slicing in python means taking elements from one given index to another given index.\n",
        "\n",
        "We pass slice instead of index like this: `[start:end]`.\n",
        "\n",
        "We can also define the step, like this: `[start:end:step]`\n"
      ]
    },
    {
      "cell_type": "code",
      "metadata": {
        "id": "IGFletrMSh0Z"
      },
      "source": [
        "x = np.array([1, 2, 3, 4, 5, 6, 7])\n",
        "\n",
        "print(x[1:5])\n",
        "print(x[:4])\n",
        "print(x[4:])"
      ],
      "execution_count": null,
      "outputs": []
    },
    {
      "cell_type": "markdown",
      "metadata": {
        "id": "P05zuILRvAqb"
      },
      "source": [
        "## **2D Slicing**\n",
        "* Now we will be slicing a sub matrix out of a matrix\n",
        "\n",
        "  We can pass the slice of matrix like this `[start:end, start:end]`\n"
      ]
    },
    {
      "cell_type": "code",
      "metadata": {
        "id": "yEQbY2g4vA4f"
      },
      "source": [
        "import numpy as np\n",
        "\n",
        "x = np.array([[1, 2, 3, 4, 5, 6, 7],[8, 9, 10, 11, 12, 13, 14],[15, 16, 17, 18, 19, 20, 21],[22, 23, 24, 25, 26, 27, 28]])\n",
        "\n",
        "print(\"Original Matrix :\\n\",x)\n",
        "print(\"\\nPrinting single cell :\",x[3,4])\n",
        "print(\"\\nPrinting single line :\",x[2,:])\n",
        "print(\"\\nPrinting a sub matrix :\\n\",x[1:3,3:6])\n",
        "print(\"\\nPrinting a step matrix :\\n\",x[0:3:2,0:6:2])"
      ],
      "execution_count": null,
      "outputs": []
    },
    {
      "cell_type": "code",
      "metadata": {
        "id": "n9gWof13Shju"
      },
      "source": [
        "image=plt.imread('blur.jpeg')\n",
        "print(\"Image shape: \",image.shape)\n",
        "print(\"Image Dimension: \",image.ndim)\n",
        "print(\"Image datatype: \",image.dtype)\n",
        "# image0=np.zeros_like(image)\n",
        "image0=np.copy(image)      #copying the image to new array so that I dont hamper the orignal image\n",
        "print(\"copied image shape\",image0.shape) #showing that even the copyied image has same dimensions\n",
        "plt.imshow(image0)"
      ],
      "execution_count": null,
      "outputs": []
    },
    {
      "cell_type": "code",
      "metadata": {
        "id": "SXpX5JOSU-ta"
      },
      "source": [
        "image1=image0[:,:int(image0.shape[1]/2)] ## shows first half of the image ##similarly show height\n",
        "plt.imshow(image1)"
      ],
      "execution_count": null,
      "outputs": []
    },
    {
      "cell_type": "code",
      "metadata": {
        "id": "VUFd_mwRVKxU"
      },
      "source": [
        "image2=image0[::2] ## yeh karne se practically image compress ho gaya ## Every alternate rows' pixel is lost ## losing pixels is not a suitable method for compression\n",
        "plt.imshow(image2) ## orignal dimension was (720,1280,3)\n",
        "print(image2.shape)"
      ],
      "execution_count": null,
      "outputs": []
    },
    {
      "cell_type": "code",
      "metadata": {
        "id": "Ke12SCNsWQNY"
      },
      "source": [
        "image3=np.copy(image) ## Making alternate rows' pixel to black out\n",
        "image3[::2,:,:]=0\n",
        "plt.imshow(image3)"
      ],
      "execution_count": null,
      "outputs": []
    },
    {
      "cell_type": "code",
      "metadata": {
        "id": "vgrEs6opVCHx"
      },
      "source": [
        "image4=image0[:,:,2] ## accessing channel B since RGB representation \n",
        "plt.imshow(image4)"
      ],
      "execution_count": null,
      "outputs": []
    },
    {
      "cell_type": "markdown",
      "metadata": {
        "id": "1XvzVL0_Shro"
      },
      "source": [
        "# **Creating Shapes in Images**\n",
        "We can make many simple shapes using just manual matrix manipulation. Some examples are :\n",
        "\n",
        "| | | |\n",
        "|:----:|:-------:|:----:|\n",
        "|![](/cv-basics/Playing_with_matrices/images/blur_line.png)|![](/cv-basics/Playing_with_matrices/images/blur_square.png)| ![](/cv-basics/Playing_with_matrices/images/blur_circle.png)|\n",
        "|**Line**|**Square**|**Circle**|\n"
      ]
    },
    {
      "cell_type": "markdown",
      "metadata": {
        "id": "HS1UMHugUdM4"
      },
      "source": [
        "## **Creating a Line in an image**\n",
        "### *Now we will write simple code for drawing a horizontal line. We will be using slicing operation in the code.*"
      ]
    },
    {
      "cell_type": "code",
      "metadata": {
        "id": "ziKdHYyzsuxW"
      },
      "source": [
        "#Defining the Coordinates and length of the Line\n",
        "i,j,l = 100, 100, 100\n",
        "\n",
        "# Reading an image\n",
        "image = plt.imread('blur.jpeg')     \n",
        "print(\"Size of image : \",image.shape[0],\"x\",image.shape[1])                           \n",
        "\n",
        "# Creating an array of zeroes\n",
        "image1 = np.zeros((image.shape[0],image.shape[1],image.shape[2]),dtype = image.dtype) \n",
        "image1 = np.copy(image)\n",
        "# Assigning the Color of the Pixels [R, G, B]\n",
        "image1[i,j:j+l] = [255,0,0] \n",
        "plt.figure()    \n",
        "plt.imshow(image)\n",
        "plt.figure()\n",
        "plt.imshow(image1)"
      ],
      "execution_count": null,
      "outputs": []
    },
    {
      "cell_type": "markdown",
      "metadata": {
        "id": "xjUQH72kNM3M"
      },
      "source": [
        "*You have Successfully Made a Line*"
      ]
    },
    {
      "cell_type": "markdown",
      "metadata": {
        "id": "fsoCoHueTWS_"
      },
      "source": [
        "# **Image Rotation**\n",
        "\n",
        "## 90 deg\n",
        "Most basic approach.... to put the pixels at their correct location.\n",
        "For 90 deg we might simply take a transpose of the matrix.\n",
        "Remember - we need to keep our BGR of respective pixels together \n",
        "Hence we transpose only the first two dimensions which retains the 3 channels for us.\n"
      ]
    },
    {
      "cell_type": "code",
      "metadata": {
        "id": "tCb4BOWITAEY"
      },
      "source": [
        "\n",
        "h,w,c=image.shape\n",
        "image1=np.zeros((w,h,c),dtype=image.dtype)  # creating a new array for image\n",
        "for i in range(h):\n",
        "  for j in range(w):\n",
        "    image1[j][h-1-i]=image[i][j] #clockwise rotation ke liye\n",
        "    # image1[j][i]=image[i][j] #anti clockwise rotation + flip ke liye\n",
        "plt.imshow(image1)\n",
        "  "
      ],
      "execution_count": null,
      "outputs": []
    },
    {
      "cell_type": "markdown",
      "metadata": {
        "id": "V-5x_20kD8iP"
      },
      "source": [
        "## Rotation by 180 deg can be done by applying rotation by 90 twice\n",
        "\n",
        "> What about other angles? \n",
        "> You could apply a bit of what you did learn during your JEE.\n",
        "Give it a thought!\n",
        "\n",
        "Where do we need rotation?\n",
        "* Image rotation is a common image processing routine\n",
        "* Creating data sets for training machine learning models\n",
        "* Image Editing and graphic designing\n"
      ]
    },
    {
      "cell_type": "code",
      "metadata": {
        "id": "DRHLIS-l4v1b"
      },
      "source": [
        "# 180 by applying 90 twice\n",
        "h,w,c=image1.shape\n",
        "image2=np.zeros((w,h,c),dtype=image1.dtype)    #creating a new array for image\n",
        "for i in range(h):\n",
        "  for j in range(w):\n",
        "    image2[j][h-1-i]=image1[i][j]\n",
        "plt.imshow(image2)"
      ],
      "execution_count": null,
      "outputs": []
    },
    {
      "cell_type": "markdown",
      "metadata": {
        "id": "tRogu78jSh-F"
      },
      "source": [
        "# **Image Translation**\n",
        " ## *What does Translation mean?*\n",
        "   Translation refers to the **rectilinear shift of an object**\n",
        "  i.e. an image from one location to another. If we know the amount of shift in horizontal and the vertical direction, say (Tx, Ty) then we can make a transformation matrix \n",
        "  e.g. \\begin{bmatrix} 1 & 0 & Tx \\\\0 & 1 & Ty \\end{bmatrix}\n",
        "  where Tx denotes the shift along the x-axis and Ty denotes shift along the y-axis i.e. the number of pixels by which we need to shift about in that direction.\n",
        "\n",
        "\n",
        "\n",
        "\n",
        "\n",
        "\n",
        "\n",
        "\n",
        "\n",
        "  ### **Below is the Python code for Image Translation:**\n",
        "\n"
      ]
    },
    {
      "cell_type": "code",
      "metadata": {
        "id": "6AeyN0CLSiFF"
      },
      "source": [
        "#Translation Matrix elements\n",
        "#     | 1 0 Tx |\n",
        "# T = | 0 1 Ty |\n",
        "\n",
        "#Import necessary libraries\n",
        "import cv2\n",
        "import numpy as np\n",
        "from google.colab.patches import cv2_imshow\n",
        "\n",
        "#Load/Read the i/p image\n",
        "input_image = plt.imread('blur.jpeg')\n",
        "\n",
        "#Extract height & width of the image\n",
        "(height, width) = input_image.shape[:2]\n",
        "print(height, width)\n",
        "print(\"=================\")\n",
        "\n",
        "#Translate the height & width of the image to 1/4\n",
        "height_fourth, width_fourth = height/4, width/4\n",
        "print(height_fourth, width_fourth)\n",
        "\n",
        "#Translate matrix T\n",
        "T = np.float32([[1, 0, width_fourth],[0, 1, height_fourth]])\n",
        "\n",
        "#Print the val of Translation matrix T\n",
        "print(T)\n",
        "\n",
        "#Use warpAffine to transform the image using the translation matrix, T\n",
        "img_translation = cv2.warpAffine(input_image, T, (width, height))\n",
        "\n",
        "#Showing the image o/p\n",
        "plt.figure()\n",
        "plt.imshow(input_image)\n",
        "plt.figure()\n",
        "plt.imshow(img_translation)\n",
        "\n"
      ],
      "execution_count": null,
      "outputs": []
    },
    {
      "cell_type": "markdown",
      "metadata": {
        "id": "gJkbkScHp4Uh"
      },
      "source": [
        "## *Advantages/application of image translation are:*\n",
        "\n",
        "\n",
        "*   Hiding a part of the image\n",
        "*   Cropping an image\n",
        "*   Shifting an image\n",
        "*   Animating an image using image translations in loop.\n",
        "\n",
        "\n",
        "\n"
      ]
    },
    {
      "cell_type": "markdown",
      "metadata": {
        "id": "Dz8qOXgkTSvm"
      },
      "source": [
        "\n",
        "\n",
        "---\n",
        "\n"
      ]
    },
    {
      "cell_type": "markdown",
      "metadata": {
        "id": "6CASSpB1SiPx"
      },
      "source": [
        "# **Matrix Multiplication**\n",
        "## *How will you perform matrix multiplication in python?*\n",
        "Well, we will see two segments to solve matrix.\n",
        "\n",
        "\n",
        "*   Nested Loop\n",
        "*   Numpy Array\n",
        "\n",
        "**Multiplication of two matrices X and Y is defined only if the number of columns in X is equal to the number of rows Y or else it will lead to an error in the output result.**\n",
        "\n",
        "If X is a (n x m) matrix and Y is a (m x 1) matrix then, XY is defined and has the dimension (n x 1).\n",
        "\n",
        "### **NESTED LOOP**\n",
        "\n",
        "In this program, we have used nested *for* loops to iterate through each row and each column. We accumulate the sum of products in the result.\n",
        "\n",
        "\n",
        "This technique is simple but computationally expensive as we increase the order of the matrix."
      ]
    },
    {
      "cell_type": "code",
      "metadata": {
        "id": "4_02peiXTN66"
      },
      "source": [
        "# Using nested loop\n",
        "import time\n",
        "\n",
        "# 3x3 matrix\n",
        "X = [[3   , 4.5 , 5.9],\n",
        "     [6   , 8   , 9  ],\n",
        "     [2.5 , 25  , 14 ]]\n",
        "\n",
        "# 3x3 matrix\n",
        "Y = [[15 , 7.2,   5],\n",
        "     [4  , 5  , 0.5],\n",
        "     [9  , 2  ,   7]]\n",
        "\n",
        "# result is 3x4\n",
        "result = [[0,0,0],\n",
        "          [0,0,0],\n",
        "          [0,0,0]]\n",
        "\n",
        "# starting time\n",
        "start = time.time()\n",
        "#-------------------------------------------\n",
        "# iterate through rows of X\n",
        "for i in range(len(X)):\n",
        "\n",
        "   # iterate through columns of Y\n",
        "   for j in range(len(Y[0])):\n",
        "\n",
        "       # iterate through rows of Y\n",
        "       for k in range(len(Y)):\n",
        "\n",
        "           result[i][j] += X[i][k] * Y[k][j]\n",
        "\n",
        "for R in result:\n",
        "   print(R)\n",
        "#-------------------------------------------\n",
        "\n",
        "# end time\n",
        "end = time.time()\n",
        "# total time taken\n",
        "print(f\"Runtime of the program is {end - start}\")"
      ],
      "execution_count": null,
      "outputs": []
    },
    {
      "cell_type": "markdown",
      "metadata": {
        "id": "EQ_ohaSjTOQ1"
      },
      "source": [
        "### **NUMPY ARRAY**\n",
        "Numpy makes the task more simple, because numpy already contains a pre-built function to multiply two given parameter which is dot() function.\n",
        "\n",
        "We will encode the same example as mentioned above."
      ]
    },
    {
      "cell_type": "code",
      "metadata": {
        "id": "tU3Y4-7cTOZw"
      },
      "source": [
        "# Using numpy array\n",
        "import numpy as np \n",
        "import time\n",
        "\n",
        "# input two matrices \n",
        "X = [[3   , 4.5 , 5.9],\n",
        "     [6   , 8   , 9  ],\n",
        "     [2.5 , 25  , 14 ]]\n",
        "\n",
        "# 3x3 matrix\n",
        "Y = [[15 , 7.2,   5],\n",
        "     [4  , 5  , 0.5],\n",
        "     [9  , 2  ,   7]]\n",
        "\n",
        "# starting time\n",
        "start = time.time() \n",
        "\n",
        "#-------------------------------------------\n",
        "# This will return dot product \n",
        "result = np.dot(X, Y) \n",
        "  \n",
        "# print resulted matrix \n",
        "print(result)\n",
        "#-------------------------------------------\n",
        "\n",
        "# end time\n",
        "end = time.time()\n",
        "# total time taken\n",
        "print(f\"Runtime of the program is {end - start}\")"
      ],
      "execution_count": null,
      "outputs": []
    },
    {
      "cell_type": "markdown",
      "metadata": {
        "id": "H_VjVLwOUljy"
      },
      "source": [
        "Congratulation, you have completed & learned how to multiply two matrices using numpy array."
      ]
    },
    {
      "cell_type": "markdown",
      "metadata": {
        "id": "UbM665QRTu81"
      },
      "source": [
        "\n",
        "\n",
        "---\n",
        "\n"
      ]
    }
  ]
}