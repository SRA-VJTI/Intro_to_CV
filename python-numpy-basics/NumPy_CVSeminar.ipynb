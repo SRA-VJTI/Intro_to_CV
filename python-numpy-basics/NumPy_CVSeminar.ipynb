{
  "nbformat": 4,
  "nbformat_minor": 0,
  "metadata": {
    "colab": {
      "name": "NumPy_CVSeminar.ipynb",
      "provenance": []
    },
    "kernelspec": {
      "name": "python3",
      "display_name": "Python 3"
    },
    "language_info": {
      "name": "python"
    }
  },
  "cells": [
    {
      "cell_type": "code",
      "metadata": {
        "id": "jlyF-0QBI7_p"
      },
      "source": [
        "import numpy as np"
      ],
      "execution_count": 91,
      "outputs": []
    },
    {
      "cell_type": "markdown",
      "metadata": {
        "id": "lzn4Cg5RGuHK"
      },
      "source": [
        "##Array Math"
      ]
    },
    {
      "cell_type": "markdown",
      "metadata": {
        "id": "ATl2Vg7JIqbf"
      },
      "source": [
        "###Numerical Operations on Arrays"
      ]
    },
    {
      "cell_type": "code",
      "metadata": {
        "id": "KKWa4KVAGWqB"
      },
      "source": [
        "a = np.array([1, 2, 3, 4])\n",
        "b = np.array([3, 5, 1, 6])"
      ],
      "execution_count": 92,
      "outputs": []
    },
    {
      "cell_type": "markdown",
      "metadata": {
        "id": "8b__m7EAPYQe"
      },
      "source": [
        "Element-wise operation is performed."
      ]
    },
    {
      "cell_type": "code",
      "metadata": {
        "colab": {
          "base_uri": "https://localhost:8080/"
        },
        "id": "9qx-pM4rJFaF",
        "outputId": "1007f905-1459-4378-8101-e18a6e0c2045"
      },
      "source": [
        "a + 1"
      ],
      "execution_count": 93,
      "outputs": [
        {
          "output_type": "execute_result",
          "data": {
            "text/plain": [
              "array([2, 3, 4, 5])"
            ]
          },
          "metadata": {
            "tags": []
          },
          "execution_count": 93
        }
      ]
    },
    {
      "cell_type": "code",
      "metadata": {
        "colab": {
          "base_uri": "https://localhost:8080/"
        },
        "id": "uypIDilxJItu",
        "outputId": "d1fa308f-78f1-4779-edd6-25388217cc99"
      },
      "source": [
        "a * 5"
      ],
      "execution_count": 94,
      "outputs": [
        {
          "output_type": "execute_result",
          "data": {
            "text/plain": [
              "array([ 5, 10, 15, 20])"
            ]
          },
          "metadata": {
            "tags": []
          },
          "execution_count": 94
        }
      ]
    },
    {
      "cell_type": "code",
      "metadata": {
        "colab": {
          "base_uri": "https://localhost:8080/"
        },
        "id": "2thfserOJKZd",
        "outputId": "e57b6f0c-3f7b-454b-e303-2e803acf5af0"
      },
      "source": [
        "3**a"
      ],
      "execution_count": 95,
      "outputs": [
        {
          "output_type": "execute_result",
          "data": {
            "text/plain": [
              "array([ 3,  9, 27, 81])"
            ]
          },
          "metadata": {
            "tags": []
          },
          "execution_count": 95
        }
      ]
    },
    {
      "cell_type": "code",
      "metadata": {
        "colab": {
          "base_uri": "https://localhost:8080/"
        },
        "id": "9JWK8WyEJe0A",
        "outputId": "53c4ed83-24df-4bf4-b4a5-2ae4115d28d3"
      },
      "source": [
        "a - b"
      ],
      "execution_count": 96,
      "outputs": [
        {
          "output_type": "execute_result",
          "data": {
            "text/plain": [
              "array([-2, -3,  2, -2])"
            ]
          },
          "metadata": {
            "tags": []
          },
          "execution_count": 96
        }
      ]
    },
    {
      "cell_type": "code",
      "metadata": {
        "colab": {
          "base_uri": "https://localhost:8080/"
        },
        "id": "034DEP5QJnYq",
        "outputId": "efc2ef20-95ea-4abf-c365-0fa3c8380da8"
      },
      "source": [
        "a * b"
      ],
      "execution_count": 97,
      "outputs": [
        {
          "output_type": "execute_result",
          "data": {
            "text/plain": [
              "array([ 3, 10,  3, 24])"
            ]
          },
          "metadata": {
            "tags": []
          },
          "execution_count": 97
        }
      ]
    },
    {
      "cell_type": "code",
      "metadata": {
        "colab": {
          "base_uri": "https://localhost:8080/"
        },
        "id": "BLBotGTvJyyS",
        "outputId": "3c40096e-1289-4163-e264-85875bba34b8"
      },
      "source": [
        "a > b"
      ],
      "execution_count": 98,
      "outputs": [
        {
          "output_type": "execute_result",
          "data": {
            "text/plain": [
              "array([False, False,  True, False])"
            ]
          },
          "metadata": {
            "tags": []
          },
          "execution_count": 98
        }
      ]
    },
    {
      "cell_type": "code",
      "metadata": {
        "colab": {
          "base_uri": "https://localhost:8080/"
        },
        "id": "0ICJXjlvM8Y3",
        "outputId": "83467f8b-10c8-477d-f79f-90ef37e70b05"
      },
      "source": [
        "a += b\n",
        "a"
      ],
      "execution_count": 99,
      "outputs": [
        {
          "output_type": "execute_result",
          "data": {
            "text/plain": [
              "array([ 4,  7,  4, 10])"
            ]
          },
          "metadata": {
            "tags": []
          },
          "execution_count": 99
        }
      ]
    },
    {
      "cell_type": "markdown",
      "metadata": {
        "id": "dRFaKA4IPdSH"
      },
      "source": [
        "To compare the whole array, use array_equal()"
      ]
    },
    {
      "cell_type": "code",
      "metadata": {
        "colab": {
          "base_uri": "https://localhost:8080/"
        },
        "id": "Rm1I_Mf6J5Lu",
        "outputId": "265cc1ea-2125-43b0-9e8c-d5f5e0fe948b"
      },
      "source": [
        "np.array_equal(a, b)"
      ],
      "execution_count": 100,
      "outputs": [
        {
          "output_type": "execute_result",
          "data": {
            "text/plain": [
              "False"
            ]
          },
          "metadata": {
            "tags": []
          },
          "execution_count": 100
        }
      ]
    },
    {
      "cell_type": "markdown",
      "metadata": {
        "id": "tVB3UbnEPwyV"
      },
      "source": [
        "Mathematical functions work on each element."
      ]
    },
    {
      "cell_type": "code",
      "metadata": {
        "colab": {
          "base_uri": "https://localhost:8080/"
        },
        "id": "cCQZp7RoKCvm",
        "outputId": "f30f8c4e-9071-40ba-f632-d8599d675a79"
      },
      "source": [
        "np.sin(a)"
      ],
      "execution_count": 101,
      "outputs": [
        {
          "output_type": "execute_result",
          "data": {
            "text/plain": [
              "array([-0.7568025 ,  0.6569866 , -0.7568025 , -0.54402111])"
            ]
          },
          "metadata": {
            "tags": []
          },
          "execution_count": 101
        }
      ]
    },
    {
      "cell_type": "code",
      "metadata": {
        "colab": {
          "base_uri": "https://localhost:8080/"
        },
        "id": "qnR1fbWJKD_G",
        "outputId": "b3726d86-0e1b-4be7-ec2f-54382d0557d2"
      },
      "source": [
        "np.log(a)"
      ],
      "execution_count": 102,
      "outputs": [
        {
          "output_type": "execute_result",
          "data": {
            "text/plain": [
              "array([1.38629436, 1.94591015, 1.38629436, 2.30258509])"
            ]
          },
          "metadata": {
            "tags": []
          },
          "execution_count": 102
        }
      ]
    },
    {
      "cell_type": "code",
      "metadata": {
        "colab": {
          "base_uri": "https://localhost:8080/"
        },
        "id": "Q9vGxNSHKFRr",
        "outputId": "efe7660a-0491-4db2-99d9-765d143e7499"
      },
      "source": [
        "np.exp(a)"
      ],
      "execution_count": 103,
      "outputs": [
        {
          "output_type": "execute_result",
          "data": {
            "text/plain": [
              "array([   54.59815003,  1096.63315843,    54.59815003, 22026.46579481])"
            ]
          },
          "metadata": {
            "tags": []
          },
          "execution_count": 103
        }
      ]
    },
    {
      "cell_type": "code",
      "metadata": {
        "colab": {
          "base_uri": "https://localhost:8080/"
        },
        "id": "b5Vu7_o3LOD2",
        "outputId": "db294e39-9acf-409c-fdf6-21c012354bdc"
      },
      "source": [
        "np.sqrt(a)"
      ],
      "execution_count": 104,
      "outputs": [
        {
          "output_type": "execute_result",
          "data": {
            "text/plain": [
              "array([2.        , 2.64575131, 2.        , 3.16227766])"
            ]
          },
          "metadata": {
            "tags": []
          },
          "execution_count": 104
        }
      ]
    },
    {
      "cell_type": "code",
      "metadata": {
        "colab": {
          "base_uri": "https://localhost:8080/"
        },
        "id": "ZIwK6CcpLPV_",
        "outputId": "eaf93fc9-6c27-4521-d9a6-7ae6a3de3d08"
      },
      "source": [
        "np.cos(a)"
      ],
      "execution_count": 105,
      "outputs": [
        {
          "output_type": "execute_result",
          "data": {
            "text/plain": [
              "array([-0.65364362,  0.75390225, -0.65364362, -0.83907153])"
            ]
          },
          "metadata": {
            "tags": []
          },
          "execution_count": 105
        }
      ]
    },
    {
      "cell_type": "code",
      "metadata": {
        "colab": {
          "base_uri": "https://localhost:8080/"
        },
        "id": "x1C1f4dLLQuK",
        "outputId": "38a7afe8-0b59-47e1-c2c4-86f70179cd16"
      },
      "source": [
        "np.isnan(a)"
      ],
      "execution_count": 106,
      "outputs": [
        {
          "output_type": "execute_result",
          "data": {
            "text/plain": [
              "array([False, False, False, False])"
            ]
          },
          "metadata": {
            "tags": []
          },
          "execution_count": 106
        }
      ]
    },
    {
      "cell_type": "markdown",
      "metadata": {
        "id": "ggv9-h6EP-8k"
      },
      "source": [
        "Array Attributes"
      ]
    },
    {
      "cell_type": "code",
      "metadata": {
        "colab": {
          "base_uri": "https://localhost:8080/"
        },
        "id": "VfRrPLrKLkBJ",
        "outputId": "647024b5-494d-42aa-a595-a544bce993ab"
      },
      "source": [
        "print(a.ndim) # Prints the number of dimensions\n",
        "print(a.shape) # Prints the shape\n",
        "print(a.dtype) # Prints the datatype"
      ],
      "execution_count": 107,
      "outputs": [
        {
          "output_type": "stream",
          "text": [
            "1\n",
            "(4,)\n",
            "int64\n"
          ],
          "name": "stdout"
        }
      ]
    },
    {
      "cell_type": "markdown",
      "metadata": {
        "id": "5uQaMX2kQIYt"
      },
      "source": [
        "Reshaping Arrays"
      ]
    },
    {
      "cell_type": "code",
      "metadata": {
        "colab": {
          "base_uri": "https://localhost:8080/"
        },
        "id": "KEut9HqaLGba",
        "outputId": "735d682f-8e83-4c5e-e845-a2b235639a4b"
      },
      "source": [
        "a.reshape(2,-1) # Reshape array into a matrix with 2 rows"
      ],
      "execution_count": 108,
      "outputs": [
        {
          "output_type": "execute_result",
          "data": {
            "text/plain": [
              "array([[ 4,  7],\n",
              "       [ 4, 10]])"
            ]
          },
          "metadata": {
            "tags": []
          },
          "execution_count": 108
        }
      ]
    },
    {
      "cell_type": "code",
      "metadata": {
        "id": "GeogZWXkL8i-"
      },
      "source": [
        "c = np.array([[1, 2, 3, 4], [4, 5, 6, -1], [7, 8, 9, 12]])"
      ],
      "execution_count": 109,
      "outputs": []
    },
    {
      "cell_type": "code",
      "metadata": {
        "colab": {
          "base_uri": "https://localhost:8080/"
        },
        "id": "Up7e2HUnMGb1",
        "outputId": "ee6000c7-6d58-4fb5-85f4-c0261571b945"
      },
      "source": [
        "c.reshape(6, 2) # Reshape array into a matrix of size 6 x 2"
      ],
      "execution_count": 110,
      "outputs": [
        {
          "output_type": "execute_result",
          "data": {
            "text/plain": [
              "array([[ 1,  2],\n",
              "       [ 3,  4],\n",
              "       [ 4,  5],\n",
              "       [ 6, -1],\n",
              "       [ 7,  8],\n",
              "       [ 9, 12]])"
            ]
          },
          "metadata": {
            "tags": []
          },
          "execution_count": 110
        }
      ]
    },
    {
      "cell_type": "code",
      "metadata": {
        "colab": {
          "base_uri": "https://localhost:8080/"
        },
        "id": "K2S7KzWoMd-0",
        "outputId": "d6d3285d-cfa8-4f5c-f52d-21ff3c542e1f"
      },
      "source": [
        "c.ravel() # To give a contiguous flattened array"
      ],
      "execution_count": 111,
      "outputs": [
        {
          "output_type": "execute_result",
          "data": {
            "text/plain": [
              "array([ 1,  2,  3,  4,  4,  5,  6, -1,  7,  8,  9, 12])"
            ]
          },
          "metadata": {
            "tags": []
          },
          "execution_count": 111
        }
      ]
    },
    {
      "cell_type": "code",
      "metadata": {
        "colab": {
          "base_uri": "https://localhost:8080/"
        },
        "id": "X1iQTcaoNhKK",
        "outputId": "44f90595-bf8d-46cb-b22e-84bd60adbe32"
      },
      "source": [
        "d = np.array([5, 6, 7, 8])\n",
        "np.resize(d, (8,2))"
      ],
      "execution_count": 112,
      "outputs": [
        {
          "output_type": "execute_result",
          "data": {
            "text/plain": [
              "array([[5, 6],\n",
              "       [7, 8],\n",
              "       [5, 6],\n",
              "       [7, 8],\n",
              "       [5, 6],\n",
              "       [7, 8],\n",
              "       [5, 6],\n",
              "       [7, 8]])"
            ]
          },
          "metadata": {
            "tags": []
          },
          "execution_count": 112
        }
      ]
    },
    {
      "cell_type": "markdown",
      "metadata": {
        "id": "tx2aqQ0RQdba"
      },
      "source": [
        "Transpose"
      ]
    },
    {
      "cell_type": "code",
      "metadata": {
        "colab": {
          "base_uri": "https://localhost:8080/"
        },
        "id": "7bFbUdClMpSY",
        "outputId": "ecd0400e-87e2-46f9-83db-2c649640b848"
      },
      "source": [
        "c.T"
      ],
      "execution_count": 113,
      "outputs": [
        {
          "output_type": "execute_result",
          "data": {
            "text/plain": [
              "array([[ 1,  4,  7],\n",
              "       [ 2,  5,  8],\n",
              "       [ 3,  6,  9],\n",
              "       [ 4, -1, 12]])"
            ]
          },
          "metadata": {
            "tags": []
          },
          "execution_count": 113
        }
      ]
    },
    {
      "cell_type": "code",
      "metadata": {
        "colab": {
          "base_uri": "https://localhost:8080/"
        },
        "id": "U7K1KRZwMrsm",
        "outputId": "0feb61c7-7a02-474e-bf87-9db98e363dcf"
      },
      "source": [
        "c.transpose((1, 0)) # Reverses or permutes the axes of the array. The axes here are 0 and 1"
      ],
      "execution_count": 114,
      "outputs": [
        {
          "output_type": "execute_result",
          "data": {
            "text/plain": [
              "array([[ 1,  4,  7],\n",
              "       [ 2,  5,  8],\n",
              "       [ 3,  6,  9],\n",
              "       [ 4, -1, 12]])"
            ]
          },
          "metadata": {
            "tags": []
          },
          "execution_count": 114
        }
      ]
    },
    {
      "cell_type": "markdown",
      "metadata": {
        "id": "yN_Tzm93Q41j"
      },
      "source": [
        "Sum of Arrays"
      ]
    },
    {
      "cell_type": "code",
      "metadata": {
        "colab": {
          "base_uri": "https://localhost:8080/"
        },
        "id": "02PAzgZ0KkVL",
        "outputId": "49bd27a4-8966-4242-d541-d0e39af3506d"
      },
      "source": [
        "np.sum(a)"
      ],
      "execution_count": 115,
      "outputs": [
        {
          "output_type": "execute_result",
          "data": {
            "text/plain": [
              "25"
            ]
          },
          "metadata": {
            "tags": []
          },
          "execution_count": 115
        }
      ]
    },
    {
      "cell_type": "code",
      "metadata": {
        "colab": {
          "base_uri": "https://localhost:8080/"
        },
        "id": "VzOrh2hEK_1I",
        "outputId": "950ccf92-eb31-4b9b-8a6e-2939f1fc74b9"
      },
      "source": [
        "a.sum()"
      ],
      "execution_count": 116,
      "outputs": [
        {
          "output_type": "execute_result",
          "data": {
            "text/plain": [
              "25"
            ]
          },
          "metadata": {
            "tags": []
          },
          "execution_count": 116
        }
      ]
    },
    {
      "cell_type": "code",
      "metadata": {
        "colab": {
          "base_uri": "https://localhost:8080/"
        },
        "id": "9kzwA6vRNPZI",
        "outputId": "1b51bf1c-9665-4f82-f72a-2d58ce79c608"
      },
      "source": [
        "c.sum(axis = 0) # Sum by columns"
      ],
      "execution_count": 117,
      "outputs": [
        {
          "output_type": "execute_result",
          "data": {
            "text/plain": [
              "array([12, 15, 18, 15])"
            ]
          },
          "metadata": {
            "tags": []
          },
          "execution_count": 117
        }
      ]
    },
    {
      "cell_type": "code",
      "metadata": {
        "colab": {
          "base_uri": "https://localhost:8080/"
        },
        "id": "pKPP4MrJNTr_",
        "outputId": "1c01b8d6-136f-43ab-bcd2-1bae197e731c"
      },
      "source": [
        "c.sum(axis = 1) # Sum by rows"
      ],
      "execution_count": 118,
      "outputs": [
        {
          "output_type": "execute_result",
          "data": {
            "text/plain": [
              "array([10, 14, 36])"
            ]
          },
          "metadata": {
            "tags": []
          },
          "execution_count": 118
        }
      ]
    },
    {
      "cell_type": "code",
      "metadata": {
        "colab": {
          "base_uri": "https://localhost:8080/"
        },
        "id": "oMYK71V0NVz1",
        "outputId": "b2d57283-2395-431a-b7cf-5c35f3e87315"
      },
      "source": [
        "c.sum() # Total sum of all elements"
      ],
      "execution_count": 119,
      "outputs": [
        {
          "output_type": "execute_result",
          "data": {
            "text/plain": [
              "60"
            ]
          },
          "metadata": {
            "tags": []
          },
          "execution_count": 119
        }
      ]
    },
    {
      "cell_type": "markdown",
      "metadata": {
        "id": "YXsKAR_7RYOw"
      },
      "source": [
        "Dot Product of Two Matrices"
      ]
    },
    {
      "cell_type": "code",
      "metadata": {
        "colab": {
          "base_uri": "https://localhost:8080/"
        },
        "id": "widjTUmINvOY",
        "outputId": "b0d9a19e-5d6b-437a-8415-551ee8ae879b"
      },
      "source": [
        "e = np.array([[1, 2, 3], [4, 5, 6], [7, 8, 9]])\n",
        "f = np.array([[4, 5], [1, 3], [8, 2]])\n",
        "e.dot(f)"
      ],
      "execution_count": 120,
      "outputs": [
        {
          "output_type": "execute_result",
          "data": {
            "text/plain": [
              "array([[ 30,  17],\n",
              "       [ 69,  47],\n",
              "       [108,  77]])"
            ]
          },
          "metadata": {
            "tags": []
          },
          "execution_count": 120
        }
      ]
    },
    {
      "cell_type": "markdown",
      "metadata": {
        "id": "WR5JphFHRaTD"
      },
      "source": [
        "Statistics in Arrays"
      ]
    },
    {
      "cell_type": "code",
      "metadata": {
        "colab": {
          "base_uri": "https://localhost:8080/"
        },
        "id": "-UPTdvTUOjWT",
        "outputId": "6f0d85a6-07ea-4d1a-ea30-fc6d4a34f7c8"
      },
      "source": [
        "e.min()"
      ],
      "execution_count": 121,
      "outputs": [
        {
          "output_type": "execute_result",
          "data": {
            "text/plain": [
              "1"
            ]
          },
          "metadata": {
            "tags": []
          },
          "execution_count": 121
        }
      ]
    },
    {
      "cell_type": "code",
      "metadata": {
        "colab": {
          "base_uri": "https://localhost:8080/"
        },
        "id": "0WAqd5e4Ok5S",
        "outputId": "0f0d76ab-1a63-41b7-d53e-200ede92c9d3"
      },
      "source": [
        "e.max()"
      ],
      "execution_count": 122,
      "outputs": [
        {
          "output_type": "execute_result",
          "data": {
            "text/plain": [
              "9"
            ]
          },
          "metadata": {
            "tags": []
          },
          "execution_count": 122
        }
      ]
    },
    {
      "cell_type": "code",
      "metadata": {
        "colab": {
          "base_uri": "https://localhost:8080/"
        },
        "id": "4VVC3szDOrnz",
        "outputId": "099e1e2a-8c00-441d-b469-3a0d7b09ab70"
      },
      "source": [
        "e.mean()"
      ],
      "execution_count": 123,
      "outputs": [
        {
          "output_type": "execute_result",
          "data": {
            "text/plain": [
              "5.0"
            ]
          },
          "metadata": {
            "tags": []
          },
          "execution_count": 123
        }
      ]
    },
    {
      "cell_type": "code",
      "metadata": {
        "colab": {
          "base_uri": "https://localhost:8080/"
        },
        "id": "pAU3h70POuQx",
        "outputId": "8672fd98-100d-4dcf-af71-57e48a5b0419"
      },
      "source": [
        "np.median(f)"
      ],
      "execution_count": 124,
      "outputs": [
        {
          "output_type": "execute_result",
          "data": {
            "text/plain": [
              "3.5"
            ]
          },
          "metadata": {
            "tags": []
          },
          "execution_count": 124
        }
      ]
    },
    {
      "cell_type": "code",
      "metadata": {
        "colab": {
          "base_uri": "https://localhost:8080/"
        },
        "id": "dspvT7oDOyH4",
        "outputId": "6f9347d2-a6a4-43ef-deb3-6424d2edc950"
      },
      "source": [
        "f.std()"
      ],
      "execution_count": 125,
      "outputs": [
        {
          "output_type": "execute_result",
          "data": {
            "text/plain": [
              "2.266911751455907"
            ]
          },
          "metadata": {
            "tags": []
          },
          "execution_count": 125
        }
      ]
    },
    {
      "cell_type": "markdown",
      "metadata": {
        "id": "NS5YT61CRfOf"
      },
      "source": [
        "Sorting"
      ]
    },
    {
      "cell_type": "code",
      "metadata": {
        "colab": {
          "base_uri": "https://localhost:8080/"
        },
        "id": "-75gEwiJPA0X",
        "outputId": "40c47dbc-3f3a-4a73-8da0-62ecf34ba03a"
      },
      "source": [
        "np.sort(f, axis = 0) # Sorts each column separately"
      ],
      "execution_count": 126,
      "outputs": [
        {
          "output_type": "execute_result",
          "data": {
            "text/plain": [
              "array([[1, 2],\n",
              "       [4, 3],\n",
              "       [8, 5]])"
            ]
          },
          "metadata": {
            "tags": []
          },
          "execution_count": 126
        }
      ]
    },
    {
      "cell_type": "markdown",
      "metadata": {
        "id": "6DUoh4hGGwG9"
      },
      "source": [
        "##NumPy Documentation\n",
        "Link : [Go here for User Guide and API Reference](https://numpy.org/doc/)\n"
      ]
    }
  ]
}