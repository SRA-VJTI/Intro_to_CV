{
 "cells": [
  {
   "cell_type": "markdown",
   "metadata": {},
   "source": [
    "# Types of Arrays \n",
    "Single Dimentional Arrays - These type of array represent only one row or one column of elements\n",
    "\n",
    "Multi-Dimentional Arrays - These type of array represent more than one row and more than\n",
    "one column of elements"
   ]
  },
  {
   "cell_type": "code",
   "execution_count": 20,
   "metadata": {},
   "outputs": [],
   "source": [
    "# Single Dimentional Arrays\n",
    "marks = array( [50,60,70,80] )"
   ]
  },
  {
   "cell_type": "markdown",
   "metadata": {},
   "source": [
    "Multi-Dimentional Arrays\n",
    "\n"
   ]
  },
  {
   "cell_type": "code",
   "execution_count": 21,
   "metadata": {},
   "outputs": [],
   "source": [
    "# 2- Dimentional Arrays\n",
    "\n",
    "# An array that has 1-D arrays as its elements is called a 2-D array.\n",
    "\n",
    "\n",
    "marks1 = array([[50,60,70,80],\n",
    "                [60,62,56,70],\n",
    "                [71,59,80,68]])\n"
   ]
  },
  {
   "cell_type": "code",
   "execution_count": 38,
   "metadata": {},
   "outputs": [],
   "source": [
    "# 3- Dimentional Arrays\n",
    "# An array that has 2-D arrays (matrices) as its elements is called 3-D array.\n",
    "\n",
    "marks2 = array([[[1, 2, 3], \n",
    "                 [4, 5, 6]],\n",
    "                [[1, 2, 3], \n",
    "                 [4, 5, 6]]])\n",
    "\n",
    "\n"
   ]
  },
  {
   "cell_type": "markdown",
   "metadata": {},
   "source": [
    "# numpy\n"
   ]
  },
  {
   "cell_type": "markdown",
   "metadata": {},
   "source": [
    "numpy is a package that contains several classes, functions, variables etc. to deal with scientific calculations in Python.\n",
    "\n",
    "numpy is useful to create and also process single and multi-dimensional arrays.\n",
    "\n",
    "In addition, numpy contains a large library of mathematical functions like linear algebra functions and Fourier transforms.\n",
    "\n",
    "The array object in NumPy is called ndarray, it provides a lot of supporting functions that make working with ndarray very easy.\n",
    "\n",
    "Arrays are very frequently used in data science, where speed and resources are very important.\n",
    "\n",
    "To get complete help on numpy, the reader can refer to the following link at scipy.org:\n",
    "http://docs.scipy.org/doc/numpy/reference/"
   ]
  },
  {
   "cell_type": "raw",
   "metadata": {},
   "source": [
    "Importing the library "
   ]
  },
  {
   "cell_type": "code",
   "execution_count": 7,
   "metadata": {},
   "outputs": [],
   "source": [
    "# to use numpy in out program we should first import numpy using 'import' keyword \n",
    "\n",
    "import numpy\n",
    "\n",
    "# create single dimensional array using numpy \n",
    "\n",
    "arr = numpy.array([10,20,30,40,50])\n",
    "print(arr)\n",
    "\n"
   ]
  },
  {
   "cell_type": "code",
   "execution_count": 8,
   "metadata": {},
   "outputs": [
    {
     "name": "stdout",
     "output_type": "stream",
     "text": [
      "[10 20 30 40 50]\n"
     ]
    }
   ],
   "source": [
    "import numpy as np \n",
    "\"\"\"\n",
    "Here we are using 'np' as reference to numpy. \n",
    "So whenever we need to type numpy we simply use np insted\n",
    "This makes typing easy\n",
    "\"\"\"\n",
    "\n",
    "arr1 = np.array([10,20,30,40,50])\n",
    "print(arr1)\n"
   ]
  },
  {
   "cell_type": "code",
   "execution_count": 11,
   "metadata": {},
   "outputs": [
    {
     "name": "stdout",
     "output_type": "stream",
     "text": [
      "[10 20 30 40 50]\n"
     ]
    }
   ],
   "source": [
    "from numpy import * \n",
    "\n",
    "\"\"\"\n",
    "This will import everything(* means all) from numpy package \n",
    "Now, we dont need to use any name to refer the objects \n",
    "or functions in our program\n",
    "\"\"\"\n",
    "\n",
    "arr2 = array([10,20,30,40,50])\n",
    "print(arr2)\n"
   ]
  },
  {
   "cell_type": "markdown",
   "metadata": {},
   "source": [
    "# NumPy Array Indexing\n"
   ]
  },
  {
   "cell_type": "markdown",
   "metadata": {},
   "source": [
    "Array indexing is the same as accessing an array element.\n",
    "\n",
    "You can access an array element by referring to its index number.\n",
    "\n",
    "The indexes in NumPy arrays start with 0, meaning that the first element has index 0, and the second has index 1 etc."
   ]
  },
  {
   "cell_type": "code",
   "execution_count": 13,
   "metadata": {},
   "outputs": [
    {
     "name": "stdout",
     "output_type": "stream",
     "text": [
      "78\n",
      "25\n",
      "84\n",
      "99\n"
     ]
    }
   ],
   "source": [
    "import numpy as np\n",
    "\n",
    "arr3 = np.array([78,25,84,99,520])\n",
    "\n",
    "for i in range(4):\n",
    "    print(arr3[i])\n"
   ]
  },
  {
   "cell_type": "code",
   "execution_count": 59,
   "metadata": {},
   "outputs": [
    {
     "name": "stdout",
     "output_type": "stream",
     "text": [
      "10\n",
      "10\n"
     ]
    }
   ],
   "source": [
    "import numpy as np\n",
    "\n",
    "arr4 = np.array([[1,2,3,4,5], \n",
    "                 [6,7,8,9,10]])\n",
    "\n",
    "# to print last element of senond row \n",
    "\n",
    "print(arr4[1][4]) # represent 1st row and 4th column of arr4\n",
    "#or\n",
    "print(arr4[1,-1])\n",
    "\n"
   ]
  },
  {
   "cell_type": "code",
   "execution_count": 5,
   "metadata": {},
   "outputs": [
    {
     "name": "stdout",
     "output_type": "stream",
     "text": [
      "12\n"
     ]
    }
   ],
   "source": [
    "import numpy as np\n",
    "\n",
    "arr = np.array([\n",
    "                 [[1, 2, 3], \n",
    "                 [4, 5, 6]], \n",
    "    \n",
    "                [[7, 8, 9], \n",
    "                 [10, 11, 12]]])\n",
    "\n",
    "print(arr[1, 1, 2])"
   ]
  },
  {
   "cell_type": "code",
   "execution_count": null,
   "metadata": {},
   "outputs": [],
   "source": []
  },
  {
   "cell_type": "markdown",
   "metadata": {},
   "source": [
    "# NumPy Array Slicing\n",
    "\n"
   ]
  },
  {
   "cell_type": "markdown",
   "metadata": {},
   "source": [
    "Slicing refers to extracting a range of elements from the array. The format of slicing operation is given as:\n",
    "\n",
    "We pass slice instead of index like this:   \n",
    "                        arrayname[start:end:step]       \n",
    "                        \n",
    "this will print elements starting from index 'start' upto 'end-1' \n",
    "\n",
    "If we don't pass start its considered 0\n",
    "\n",
    "If we don't pass end its considered length of array in that dimension\n",
    "\n",
    "If we don't pass step its considered 1"
   ]
  },
  {
   "cell_type": "markdown",
   "metadata": {},
   "source": [
    "NOTE - \n",
    "When negative number i is used for 'start', it should be taken as n+i. \n",
    "When negative number j is used for  'stop', it should be taken as n+j. \n",
    "When negative number is used for 'stepsize', the stepping goes towards \n",
    "smaller indexes."
   ]
  },
  {
   "cell_type": "code",
   "execution_count": 8,
   "metadata": {},
   "outputs": [
    {
     "name": "stdout",
     "output_type": "stream",
     "text": [
      "[ 5  6  7  8  9 10 11]\n"
     ]
    }
   ],
   "source": [
    "from numpy import * \n",
    "\n",
    "a = arange(5,12)\n",
    "print(a)"
   ]
  },
  {
   "cell_type": "code",
   "execution_count": 14,
   "metadata": {},
   "outputs": [
    {
     "name": "stdout",
     "output_type": "stream",
     "text": [
      "[ 6  8 10]\n"
     ]
    }
   ],
   "source": [
    "a1 = a[1::2]\n",
    "print(a1)"
   ]
  },
  {
   "cell_type": "code",
   "execution_count": 18,
   "metadata": {},
   "outputs": [
    {
     "name": "stdout",
     "output_type": "stream",
     "text": [
      "[10  9  8]\n"
     ]
    }
   ],
   "source": [
    "a2 = a[-2:2:-1]\n",
    "print(a2)\n",
    "\n",
    "# if here step = 1 \n",
    "# empty array will be printed"
   ]
  },
  {
   "cell_type": "markdown",
   "metadata": {},
   "source": [
    "Question ??\n",
    "\n",
    "If,\n",
    "a3 = a[ : : ]\n",
    "\n",
    "1. What will be a3 when print  \n",
    "2. How to reverse the order of array a"
   ]
  },
  {
   "cell_type": "code",
   "execution_count": null,
   "metadata": {},
   "outputs": [],
   "source": []
  },
  {
   "cell_type": "markdown",
   "metadata": {},
   "source": [
    "Slicing 2-D Arrays\n"
   ]
  },
  {
   "cell_type": "code",
   "execution_count": 20,
   "metadata": {},
   "outputs": [
    {
     "name": "stdout",
     "output_type": "stream",
     "text": [
      "[7 8 9]\n"
     ]
    }
   ],
   "source": [
    "import numpy as np\n",
    "\n",
    "b = np.array([[1, 2, 3, 4, 5], [6, 7, 8, 9, 10]])\n",
    "\n",
    "print(b[1, 1:4])"
   ]
  },
  {
   "cell_type": "code",
   "execution_count": 21,
   "metadata": {},
   "outputs": [
    {
     "name": "stdout",
     "output_type": "stream",
     "text": [
      "[3 8]\n"
     ]
    }
   ],
   "source": [
    "# From both elements, return index 2:\n",
    "import numpy as np\n",
    "\n",
    "b1 = b[0:2, 2]\n",
    "\n",
    "print(b1)"
   ]
  },
  {
   "cell_type": "code",
   "execution_count": 22,
   "metadata": {},
   "outputs": [
    {
     "name": "stdout",
     "output_type": "stream",
     "text": [
      "[[2 3 4]\n",
      " [7 8 9]]\n"
     ]
    }
   ],
   "source": [
    "#From both elements, slice index 1 to index 4 (not included), \n",
    "#this will return a 2-D array:\n",
    "\n",
    "\n",
    "import numpy as np\n",
    "\n",
    "b2 = b[0:2, 1:4]\n",
    "print(b2)"
   ]
  },
  {
   "cell_type": "markdown",
   "metadata": {},
   "source": [
    "# NumPy Data Types\n"
   ]
  },
  {
   "cell_type": "markdown",
   "metadata": {},
   "source": [
    "Data Types in Python \n",
    "By default Python have these data types:\n",
    "\n",
    "strings - used to represent text data, the text is given under quote marks. e.g. \"ABCD\"  \n",
    "integer - used to represent integer numbers. e.g. -1, -2, -3  \n",
    "float - used to represent real numbers. e.g. 1.2, 42.42  \n",
    "boolean - used to represent True or False.  \n",
    "complex - used to represent complex numbers. e.g. 1.0 + 2.0j, 1.5 + 2.5j  \n",
    "\n",
    "Data Types in NumPy  \n",
    "NumPy has some extra data types, and refer to data types with one character, like i for integers, u for unsigned integers etc.\n",
    "\n",
    "Below is a list of all data types in NumPy and the characters used to represent them.\n",
    "\n",
    "i - integer  \n",
    "b - boolean  \n",
    "u - unsigned integer  \n",
    "f - float  \n",
    "c - complex float  \n",
    "m - timedelta  \n",
    "M - datetime  \n",
    "O - object  \n",
    "S - string  \n",
    "U - unicode string  \n",
    "V - fixed chunk of memory for other type ( void )  \n"
   ]
  },
  {
   "cell_type": "markdown",
   "metadata": {},
   "source": [
    "\n",
    "Checking the Data Type of an Array  \n",
    "The NumPy array object has a property called dtype that returns the data type of the array:"
   ]
  },
  {
   "cell_type": "code",
   "execution_count": 64,
   "metadata": {},
   "outputs": [
    {
     "name": "stdout",
     "output_type": "stream",
     "text": [
      "<U1\n",
      "int32\n"
     ]
    }
   ],
   "source": [
    "import numpy as np\n",
    "\n",
    "arr5 = np.array(['A', 'B', 'C'])\n",
    "print(arr5.dtype)\n",
    "\n",
    "arr6 = np.array([1, 2, 3, 4])\n",
    "print(arr6.dtype)\n"
   ]
  },
  {
   "cell_type": "markdown",
   "metadata": {},
   "source": [
    "# copy v/s view\n"
   ]
  },
  {
   "cell_type": "code",
   "execution_count": 28,
   "metadata": {},
   "outputs": [
    {
     "name": "stdout",
     "output_type": "stream",
     "text": [
      "2145472206448\n",
      "2145472206448\n"
     ]
    }
   ],
   "source": [
    "from numpy import * \n",
    "\n",
    "c = array([1,2,3,4,5])\n",
    "d = c \n",
    "\n",
    "print(id(c))\n",
    "print(id(d))"
   ]
  },
  {
   "cell_type": "markdown",
   "metadata": {},
   "source": [
    "This is a simple assignment that does not make any new copy of the array 'c'. It means, 'd' is not a new array and memory is not allocated to 'd'. \n",
    "Also, elements from 'c' are not copied into 'd' since there is no memory for 'd'. \n",
    "It means the names 'a' and 'b' are referencing same array. \n",
    "This is called 'aliasing'. \n",
    "\n",
    "'Aliasing' is not 'copying'. Aliasing means giving another name to the existing bbject. Hence, any modifications to the alias object will reflect in the existing object and vice versa. "
   ]
  },
  {
   "cell_type": "code",
   "execution_count": 26,
   "metadata": {},
   "outputs": [
    {
     "name": "stdout",
     "output_type": "stream",
     "text": [
      "c =  [10  2  3  4  5]\n",
      "d =  [10  2  3  4  5]\n"
     ]
    }
   ],
   "source": [
    "d[0] = 10\n",
    "\n",
    "# after modification\n",
    "print(\"c = \", c)\n",
    "print(\"d = \", d)\n",
    "\n"
   ]
  },
  {
   "cell_type": "markdown",
   "metadata": {},
   "source": [
    "Viewing an array\n",
    "\n",
    "We can create another array that is same as an existing array. This is done by the view() method. This method creates a copy of an existing array such that the new array will also contain the same elements found in the existing array. The original array and the newly created arrays will share different memory locations. If the newly created array is modified, the original array will also be modified since the elements in both the arrays will be like mirror images. "
   ]
  },
  {
   "cell_type": "code",
   "execution_count": 30,
   "metadata": {},
   "outputs": [
    {
     "name": "stdout",
     "output_type": "stream",
     "text": [
      "2145472237040\n",
      "2145472205888\n",
      "[20  2  3  4  5]\n",
      "[20  2  3  4  5]\n"
     ]
    }
   ],
   "source": [
    "import numpy as np \n",
    "\n",
    "e = np.arange(1,6)\n",
    "f = e.view()      # ‘shallow copying’\n",
    "\n",
    "\n",
    "print(id(e))\n",
    "print(id(f))\n",
    "\n",
    "\n",
    "f[0] = 20\n",
    "\n",
    "print(e)\n",
    "print(f)"
   ]
  },
  {
   "cell_type": "markdown",
   "metadata": {},
   "source": [
    "Copying an array \n",
    "\n",
    "Suppose we want both the arrays to be independent and modifying one array should not affect another array,\n",
    "we should go for ‘deep copying’.\n",
    "\n",
    "This is done with the help of copy() method. This method makes a complete copy of an existing array and its\n",
    "elements.\n",
    "\n",
    "When the newly created array is modified, it will not affect the existing array or vice versa. There will not be any\n",
    "connection between the elements of the two arrays.\n"
   ]
  },
  {
   "cell_type": "code",
   "execution_count": 36,
   "metadata": {},
   "outputs": [
    {
     "name": "stdout",
     "output_type": "stream",
     "text": [
      "2145472236800\n",
      "2145472179216\n",
      "[0 1 2 3 4 5 6 7 8 9]\n",
      "[25  1  2  3  4  5  6  7  8  9]\n"
     ]
    }
   ],
   "source": [
    "import numpy as np \n",
    " \n",
    "g = np.arange(10)\n",
    "h = g.copy() \n",
    "\n",
    "print(id(g))\n",
    "print(id(h))\n",
    "\n",
    "\n",
    "h[0] = 25\n",
    "\n",
    "print(g)\n",
    "print(h)"
   ]
  },
  {
   "cell_type": "markdown",
   "metadata": {},
   "source": [
    "# Ways to create array "
   ]
  },
  {
   "cell_type": "markdown",
   "metadata": {},
   "source": [
    "Creating arrays in numpy can be done in several ways. Some of the important ways are:\n",
    "1. using array() function \n",
    "2. using linspace() function\n",
    "3. using logspace() function\n",
    "4. using arange() funtion \n",
    "5. using zeros() and ones() function"
   ]
  },
  {
   "cell_type": "code",
   "execution_count": null,
   "metadata": {},
   "outputs": [],
   "source": []
  },
  {
   "cell_type": "markdown",
   "metadata": {},
   "source": [
    "Creating Arrays using linspace\n",
    "\n",
    "The linspace function is used to create an array with evenly spaced points between a starting point and ending point. The form of the linspace() function is:\n",
    "\n",
    "linspace(start, stop, n)\n",
    "\n",
    "start' represents the starting element and 'stop' represents the ending element. 'n' is an integer that represents the number of parts the elements should be divided. If 'n' is omitted, then it is taken as 50. Let's take one example to understand this.\n"
   ]
  },
  {
   "cell_type": "code",
   "execution_count": 49,
   "metadata": {},
   "outputs": [
    {
     "name": "stdout",
     "output_type": "stream",
     "text": [
      "[ 0.  5. 10. 15. 20.]\n"
     ]
    }
   ],
   "source": [
    "import numpy as np \n",
    "\n",
    "i= np.linspace(0, 20,5)\n",
    "print(i)"
   ]
  },
  {
   "cell_type": "code",
   "execution_count": null,
   "metadata": {},
   "outputs": [],
   "source": []
  },
  {
   "cell_type": "markdown",
   "metadata": {},
   "source": [
    "Creating Arrays using logspace\n",
    "\n",
    "The logspace() function is similar to linspace(). \n",
    "The linspace() function produces the evenly spaced points. \n",
    "Similarly, logspace) produces evenly spaced points on a logarithmically spaced scale. \n",
    "The logspace() function is used in the following format: \n",
    "\n",
    "logspace(start, stop, n)\n",
    "\n",
    "The logspace() function starts at a value which is 10 to the power of 'start' and ends at a value which is 10 to the power of 'stop'. \n",
    "If 'n' is not specified, then its value is taken as 50. \n",
    "\n",
    "For example, if we write:"
   ]
  },
  {
   "cell_type": "code",
   "execution_count": 51,
   "metadata": {},
   "outputs": [
    {
     "name": "stdout",
     "output_type": "stream",
     "text": [
      "[   10.            56.23413252   316.22776602  1778.27941004\n",
      " 10000.        ]\n"
     ]
    }
   ],
   "source": [
    "j = logspace(1, 4, 5)\n",
    "print(j)"
   ]
  },
  {
   "cell_type": "code",
   "execution_count": null,
   "metadata": {},
   "outputs": [],
   "source": []
  },
  {
   "cell_type": "markdown",
   "metadata": {},
   "source": [
    "Creating Arrays using zeros() and ones() function \n",
    "\n",
    "We can use zeros() function to create an array with all elements as 0 \n",
    "\n",
    "Similarly, We can use ones() function to create an array with all elements as 1 \n",
    "\n",
    "syntax -    \n",
    "zeros(n,datatype)  \n",
    "ones(n,datatype)"
   ]
  },
  {
   "cell_type": "code",
   "execution_count": 60,
   "metadata": {},
   "outputs": [
    {
     "ename": "TypeError",
     "evalue": "'tuple' object is not callable",
     "output_type": "error",
     "traceback": [
      "\u001b[1;31m---------------------------------------------------------------------------\u001b[0m",
      "\u001b[1;31mTypeError\u001b[0m                                 Traceback (most recent call last)",
      "\u001b[1;32m<ipython-input-60-fd693ef611a1>\u001b[0m in \u001b[0;36m<module>\u001b[1;34m\u001b[0m\n\u001b[0;32m      1\u001b[0m \u001b[0mk\u001b[0m \u001b[1;33m=\u001b[0m \u001b[0mzeros\u001b[0m\u001b[1;33m(\u001b[0m\u001b[1;36m3\u001b[0m\u001b[1;33m,\u001b[0m\u001b[0mint\u001b[0m\u001b[1;33m)\u001b[0m\u001b[1;33m\u001b[0m\u001b[1;33m\u001b[0m\u001b[0m\n\u001b[1;32m----> 2\u001b[1;33m \u001b[0ml\u001b[0m \u001b[1;33m=\u001b[0m \u001b[0mones\u001b[0m\u001b[1;33m(\u001b[0m\u001b[1;36m5\u001b[0m \u001b[1;33m,\u001b[0m \u001b[0mfloat\u001b[0m\u001b[1;33m)\u001b[0m\u001b[1;33m\u001b[0m\u001b[1;33m\u001b[0m\u001b[0m\n\u001b[0m\u001b[0;32m      3\u001b[0m \u001b[1;33m\u001b[0m\u001b[0m\n\u001b[0;32m      4\u001b[0m \u001b[0mprint\u001b[0m\u001b[1;33m(\u001b[0m\u001b[0mk\u001b[0m\u001b[1;33m)\u001b[0m\u001b[1;33m\u001b[0m\u001b[1;33m\u001b[0m\u001b[0m\n\u001b[0;32m      5\u001b[0m \u001b[0mprint\u001b[0m\u001b[1;33m(\u001b[0m\u001b[0ml\u001b[0m\u001b[1;33m)\u001b[0m\u001b[1;33m\u001b[0m\u001b[1;33m\u001b[0m\u001b[0m\n",
      "\u001b[1;31mTypeError\u001b[0m: 'tuple' object is not callable"
     ]
    }
   ],
   "source": [
    "k = zeros(3,int)\n",
    "l = ones(5 , float)\n",
    "\n",
    "print(k)\n",
    "print(l)"
   ]
  },
  {
   "cell_type": "code",
   "execution_count": null,
   "metadata": {},
   "outputs": [],
   "source": []
  }
 ],
 "metadata": {
  "kernelspec": {
   "display_name": "Python 3",
   "language": "python",
   "name": "python3"
  },
  "language_info": {
   "codemirror_mode": {
    "name": "ipython",
    "version": 3
   },
   "file_extension": ".py",
   "mimetype": "text/x-python",
   "name": "python",
   "nbconvert_exporter": "python",
   "pygments_lexer": "ipython3",
   "version": "3.8.5"
  }
 },
 "nbformat": 4,
 "nbformat_minor": 4
}
