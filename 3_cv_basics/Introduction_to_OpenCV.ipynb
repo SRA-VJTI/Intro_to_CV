{
 "cells": [
  {
   "cell_type": "markdown",
   "metadata": {
    "id": "1TTOALlWOrC9"
   },
   "source": [
    "# **Introduction to OpenCV**"
   ]
  },
  {
   "cell_type": "markdown",
   "metadata": {
    "id": "GGio55J3SL0-"
   },
   "source": [
    "### What is OpenCV?\n",
    "- *OpenCV* or Open Source Computer Vision Library is an open source computer vision and machine learning library with support in major programming languages namely: Python, Java, C, and C++.\n",
    "\n",
    "- Because the library is BSD-licensed, it is easy to apply OpenCV to business everywhere.\n",
    "\n",
    "- *OpenCV* is a cross-platform library using which we can develop real-time computer vision applications. It mainly focuses on image processing, video capture and analysis including features like face detection and object detection."
   ]
  },
  {
   "cell_type": "markdown",
   "metadata": {
    "id": "y1NmJ-F9SxIn"
   },
   "source": [
    "1. Open CV is an Open Source, C++ based API(Application Programming Interface) Library for Computer Vision\n",
    "2. It includes several computer vision algorithms\n",
    "3. It is a library written in C++, but has also its binding in Python. This means that C++ code is executed behind the scene in Python.\n",
    "4. Why in Python? It's a bit easy to implement for beginning\n",
    "5. Explore more of OpenCV [here](https://opencv.org/)"
   ]
  },
  {
   "cell_type": "markdown",
   "metadata": {
    "id": "-UKjDuVE3g2V"
   },
   "source": [
    "- **Computer Vision** : \n",
    "Computer Vision can be defined as a discipline that explains how to reconstruct, interrupt, and understand a 3D scene from its 2D images, in terms of the properties of the structure present in the scene. It deals with modeling and replicating human vision using computer software and hardware.\n",
    "\n",
    "- Computer Vision overlaps significantly with the following fields −\n",
    "\n",
    "  1. **Image Processing** − It focuses on image manipulation.\n",
    "\n",
    "  2. **Pattern Recognition** − It explains various techniques to classify patterns.\n",
    "\n",
    "  3. **Photogrammetry** − It is concerned with obtaining accurate measurements from images."
   ]
  },
  {
   "cell_type": "markdown",
   "metadata": {
    "id": "vQp7AzUp4VcV"
   },
   "source": [
    "Applications of OpenCV: There are lots of applications which are solved using OpenCV, some of them are listed below \n",
    " \n",
    "* face recognition\n",
    "* Automated inspection and surveillance \n",
    "* number of people – count (foot traffic in a mall, etc)\n",
    "* Vehicle counting on highways along with their speeds\n",
    "* Interactive art installations\n",
    "* Anamoly (defect) detection in the manufacturing process (the odd defective products)\n",
    "* Street view image stitching\n",
    "* Video/image search and retrieval\n",
    "* Robot and driver-less car navigation and control\n",
    "* object recognition\n",
    "* Medical image analysis\n",
    "* Movies – 3D structure from motion\n",
    "* TV Channels advertisement recognition\n",
    "\n",
    "OpenCV Functionality \n",
    " \n",
    "\n",
    "* Image/video I/O, processing, display (core, imgproc, highgui)\n",
    "* Object/feature detection (objdetect, features2d, nonfree)\n",
    "* Geometry-based monocular or stereo computer vision (calib3d, stitching, videostab)\n",
    "* Computational photography (photo, video, superres)\n",
    "    Machine learning & clustering (ml, flann)\n",
    "    CUDA acceleration (gpu)"
   ]
  },
  {
   "cell_type": "markdown",
   "metadata": {
    "id": "K1LhF6JQYLdU"
   },
   "source": [
    "## Function Descriptions\n",
    "\n",
    "Refer this from **google** and [OpenCv Docs](https://docs.opencv.org/master/index.html)\n",
    "\n",
    "| Sr. <br>No. | Function<br>Name                                                                                                             | Parameters                                                                                                                                                                                                                                                                                                                                                                                                                                                                                                                                                                                                                                                                                                                                                                                                                                                                                | Description                                                                                                                                                                                                                                                       |\n",
    "|:------------|:-----------------------------------------------------------------------------------------------------------------------------|:------------------------------------------------------------------------------------------------------------------------------------------------------------------------------------------------------------------------------------------------------------------------------------------------------------------------------------------------------------------------------------------------------------------------------------------------------------------------------------------------------------------------------------------------------------------------------------------------------------------------------------------------------------------------------------------------------------------------------------------------------------------------------------------------------------------------------------------------------------------------------------------|:------------------------------------------------------------------------------------------------------------------------------------------------------------------------------------------------------------------------------------------------------------------|\n",
    "| 1           | cv2.imread(filename, [flags])                                                                                                | filename: Name of file to be loaded.<br>flags: Flag that can take values of<br>cv::ImreadModes                                                                                                                                                                                                                                                                                                                                                                                                                                                                                                                                                                                                                                                                                                                                                                                            | The function imread loads an image from the specified file and returns it.                                                                                                                                                                                        |\n",
    "| 2           | cv2.imshow(window_name, image)<br>                                                                                           | window_name: A string representing the name of the window in which image to be displayed.<br>image: It is the image that is to be displayed.                                                                                                                                                                                                                                                                                                                                                                                                                                                                                                                                                                                                                                                                                                                                              | cv2.imshow() method is used to display an image in a window. The window automatically fits to the image size.It doesn’t return anything.                                                                                                                          |\n",
    "| 3           | cv2.cvtColor(src, code[, dst[, dstCn]])                                                                                      | src: It is the image whose color space is to be changed.<br>code: It is the color space conversion code.<br>dst: It is the output image of the same size and depth as src image. It is an optional parameter.<br>dstCn: It is the number of channels in the destination image. <br>If the parameter is 0 then the number of the channels is derived automatically from src and code. <br>It is an optional parameter.                                                                                                                                                                                                                                                                                                                                                                                                                                                                     | cv2.cvtColor() method is used to convert an image from one color space to another. There are more than 150 color-space conversion methods available in OpenCV.<br>It returns an image.                                                                            |\n",
    "| 4           | cv2.resize(src, dsize[, dst[, fx[, fy[, <br>interpolation]]]])                                                               | src: source/input image<br>dsize: desired size for the output image<br>fx: scale factor along the horizontal axis<br>fy: scale factor along the vertical axis                                                                                                                                                                                                                                                                                                                                                                                                                                                                                                                                                                                                                                                                                                                             | To resize an image, OpenCV provides cv2.resize() function.                                                                                                                                                                                                        |\n",
    "| 5           | cv2.addWeighted(src1, alpha, src2, beta, gamma[,<br>dst[, dtype]])<br>                                                       | src1: first input array<br>alpha: weight of the first array elements<br>src2: second input array of the same size and channel number as src1<br>beta: weight of the second array elements<br>dst: output array that has the same size and number of channels as the input arrays<br>gamma: scalar added to each sum<br>dtype: optional depth of the output array                                                                                                                                                                                                                                                                                                                                                                                                                                                                                                                          | This function is used to output the weighted sum of overlapping/blending of two images.                                                                                                                                                                           |\n",
    "| 6           | cv2.threshold(source, thresholdValue, maxVal, <br>thresholdingTechnique)                                                     | source: Input Image array (must be in Grayscale). <br>thresholdValue: Value of Threshold below and above which pixel values will change accordingly.<br>maxVal: Maximum value that can be assigned to a pixel.<br>thresholdingTechnique: The type of thresholding to be applied. eg. simple, binary etc                                                                                                                                                                                                                                                                                                                                                                                                                                                                                                                                                                                   | This function is used for thresholding. The basic Thresholding technique is Binary Thresholding. For every pixel, the same threshold value is applied. If the pixel value is smaller than the threshold, it is set to 0, otherwise, it is set to a maximum value. |\n",
    "| 7           | cv2.bitwise_and(src1, src2[, dst[, mask]])<br>                                                                               | src1: first input array or a scalar.<br>src2: second input array or a scalar.<br>dst: output array that has the same size and type as the input arrays.<br>mask: optional operation mask, 8-bit single channel array, that specifies elements of the output array to be changed.                                                                                                                                                                                                                                                                                                                                                                                                                                                                                                                                                                                                          | This function computes bitwise conjunction/AND of the two arrays (dst = src1 & src2) Calculates the per-element bit-wise conjunction of two arrays or an array and a scalar.                                                                                      |\n",
    "| 8           | cv2.bitwise_not(src[, dst[, mask]])<br>                                                                                      | src: input array.<br>dst: output array that has the same size and type as the input array.<br>mask: optional operation mask, 8-bit single channel array, that specifies elements of the output array to be changed.                                                                                                                                                                                                                                                                                                                                                                                                                                                                                                                                                                                                                                                                       | This function Inverts every bit of an array .                                                                                                                                                                                                                     |\n",
    "| 9           | cv2.bitwise_or(src1, src2[, dst[, mask]])<br>                                                                                | src1: first input array or a scalar.<br>src2: second input array or a scalar.<br>dst: output array that has the same size and type as the input arrays.<br>mask: optional operation mask, 8-bit single channel array, that specifies elements of the output array to be changed.                                                                                                                                                                                                                                                                                                                                                                                                                                                                                                                                                                                                          | This function Calculates the per-element bit-wise disjunction/OR of two arrays or an array and a scalar.                                                                                                                                                          |\n",
    "| 10          | bitwise_xor(src1, src2[, dst[, mask]])<br>                                                                                   | src1: first input array or a scalar.<br>src2: second input array or a scalar.<br>dst: output array that has the same size and type as the input arrays.<br>mask: optional operation mask, 8-bit single channel array, that specifies elements of the output array to be changed.                                                                                                                                                                                                                                                                                                                                                                                                                                                                                                                                                                                                          | This function Calculates the per-element bit-wise \"exclusive or\" <br>operation on two arrays or an array and a scalar.                                                                                                                                            |\n",
    "| 11          | cv2.inRange(src, lowerb, upperb[, dst])<br>                                                                                  | src: first input array.<br>lowerb: inclusive lower boundary array or a scalar.<br>upperb: inclusive upper boundary array or a scalar.<br>dst: output array of the same size as src and CV_8U type.                                                                                                                                                                                                                                                                                                                                                                                                                                                                                                                                                                                                                                                                                        | This function Checks if array elements lie between the elements of two other arrays.                                                                                                                                                                              |\n",
    "| 12          | cv2.Canny(image, threshold1, threshold2[, <br>edges[, apertureSize[, L2gradient]]])<br>                                      | image: 8-bit input image.<br>edges: output edge map; single channels 8-bit image, which has the same size as image .<br>threshold1: first threshold for the hysteresis procedure.<br>threshold2: second threshold for the hysteresis procedure.<br>apertureSize: aperture size for the Sobel operator.<br>L2gradient: a flag, indicating whether a more accurate L2 norm.                                                                                                                                                                                                                                                                                                                                                                                                                                                                                                                 | This function Finds edges in an image using the Canny algorithm                                                                                                                                                                                                   |\n",
    "| 13          | cv2.findContours(image, mode, method[, contours[, <br>hierarchy[, offset]]])<br>                                             | image: Source, an 8-bit single-channel image. Non-zero pixels are treated as 1's. Zero pixels remain 0's, so the image is treated as binary. <br>contours: Detected contours. Each contour is stored as a vector of points<br>hierarchy: Optional output vector<br>mode: Contour retrieval mode<br>method: Contour approximation method<br>offset: Optional offset by which every contour point is shifted.                                                                                                                                                                                                                                                                                                                                                                                                                                                                               | This function Finds contours in a binary image. The contours are a useful <br>tool for shape analysis and object detection and recognition.                                                                                                                       |\n",
    "| 14          | cv2.drawContours(image, contours, contourIdx, <br>color[, thickness[, lineType[, hierarchy[, <br>maxLevel[, offset]]]]])<br> | image: Destination image.<br>contours: All the input contours. Each contour is stored as a point vector.<br>contourIdx: Parameter indicating a contour to draw. If it is negative, all the contours are drawn.<br>color: Color of the contours.<br>thickness: Thickness of lines the contours are drawn with. If it is negative (for example, thickness=FILLED), the contour interiors are drawn.<br>lineType: Line connectivity. <br>hierarchy: Optional information about hierarchy. It is only needed if you want to draw only some of the contours (see maxLevel ).<br>maxLevel: Maximal level for drawn contours. If it is 0, only the specified contour is drawn. <br>If it is 1, the function draws the contour(s) and all the nested contours. <br>If it is 2, the function draws the contours, all the nested contours, all the nested-to-nested contours, and so on. <br><br> . | This function Draws contours outlines or filled contours.<br>The function draws contour outlines in the image if thickness ≥0<br>or fills the area bounded by the contours if thickness<0                                                                         |"
   ]
  },
  {
   "cell_type": "markdown",
   "metadata": {
    "id": "GR2j0_TwYz1J"
   },
   "source": [
    "## **Implementation of Open CV**\n",
    "OpenCV is one of the most popular computer vision libraries. If you want to start your journey in the field of computer vision, then a thorough understanding of the concepts of OpenCV is of paramount importance.\n",
    "In this article, I will try to introduce the most basic and important concepts of OpenCV in an intuitive manner.\n",
    "This article will cover the following topics:\n",
    "\n",
    "- Reading an image\n",
    "- Extracting the RGB values of a pixel\n",
    "- Extracting the Region of Interest (ROI)\n",
    "- Resizing the Image\n",
    "- Rotating the Image\n",
    "- Drawing a Rectangle\n",
    "- Displaying text"
   ]
  },
  {
   "cell_type": "markdown",
   "metadata": {
    "id": "hztSpivMdA74"
   },
   "source": [
    "### Reading Images using OpenCV\n",
    "Let’s start with the simple task of reading an image using OpenCV.\n",
    "- By default OpenCV reads and acquires the image's channels in BGR format order(Blue Green Red)."
   ]
  },
  {
   "cell_type": "code",
   "execution_count": 2,
   "metadata": {
    "id": "GTIZWcqJOenm"
   },
   "outputs": [
    {
     "name": "stdout",
     "output_type": "stream",
     "text": [
      "<class 'numpy.ndarray'>\n",
      "Height = 720,  Width = 1280, c = 3\n"
     ]
    }
   ],
   "source": [
    "# Importing the OpenCV library\n",
    "import cv2\n",
    "# Reading the image using imread() function\n",
    "image = cv2.imread('Desktop/image1.jpg')  # Here the path of the image to be read is written\n",
    "\n",
    "print(type(image))\n",
    "\n",
    "# Extracting the height and width of an image\n",
    "# h, w = img.shape[:2]\n",
    "# or \n",
    "h, w, c= image.shape[:]\n",
    "# c indicates number of channels\n",
    "\n",
    "# Displaying the height and width of the image (pixels)\n",
    "print(f\"Height = {h},  Width = {w}, c = {c}\")"
   ]
  },
  {
   "cell_type": "markdown",
   "metadata": {
    "id": "RJ9hoQctdsJn"
   },
   "source": [
    "Now we will focus on extracting the RGB values of an individual pixel.\n",
    "Note – OpenCV arranges the channels in BGR order. So the 0th value will correspond to Blue pixel and not Red."
   ]
  },
  {
   "cell_type": "code",
   "execution_count": 3,
   "metadata": {
    "id": "6bBjafQhd8nG"
   },
   "outputs": [
    {
     "name": "stdout",
     "output_type": "stream",
     "text": [
      "R = 255, G = 255, B = 255\n",
      "B = 255\n"
     ]
    }
   ],
   "source": [
    "# Extracting RGB values.\n",
    "# Here we have randomly chosen a pixel\n",
    "# by passing in 100, 100 for height and width.\n",
    "(B, G, R) = image[100, 100]\n",
    "\n",
    "# Displaying the pixel values\n",
    "print(\"R = {}, G = {}, B = {}\".format(R, G, B))\n",
    "\n",
    "# We can also pass the channel to extract\n",
    "# the value for a specific channel\n",
    "B = image[100, 100, 0]\n",
    "print(\"B = {}\".format(B))\n"
   ]
  },
  {
   "cell_type": "markdown",
   "metadata": {
    "id": "m3YzzEB0eFkR"
   },
   "source": [
    "### Displaying an image using Open CV"
   ]
  },
  {
   "cell_type": "code",
   "execution_count": 4,
   "metadata": {
    "id": "ihOdu5C3edya"
   },
   "outputs": [],
   "source": [
    "# imshow - arguments : window_name, image_name\n",
    "cv2.imshow('sample_image', image)\n",
    "\n",
    "# wait to execute next operation until a key is pressed, keep showing the image windows\n",
    "cv2.waitKey(0)\n",
    "cv2.destroyAllWindows()"
   ]
  },
  {
   "cell_type": "markdown",
   "metadata": {
    "id": "lwRCy2HAehfw"
   },
   "source": [
    "### Matplotlib:\n",
    "1. Matplotlib is a cross-platform, data visualization and graphical plotting library for Python.\n",
    "2. Its numerical extension NumPy. As such, it offers a viable open source alternative to MATLAB(mathematics library). \n",
    "3. Developers can also use matplotlib’s APIs (Application Programming Interfaces) to embed plots in GUI applications. i.e can be used in other applications as well.\n",
    "4. OpenCV understands, processes and reads an image by default in BGR channel format (Blue - Green - Red).\n",
    "5. Whereas Matplotlib understands, processes and reads an image by default in RGB channel format (Red - Green - Blue).\n",
    "6. Hence while using OpenCV and matplotlib together, one needs to take care about conversion of image between BGR and RGB format.\n",
    "\n",
    "#### **Working with Images in Python using Matplotlib**\n",
    "The image module in matplotlib library is used for working with images in Python. The image module also includes two useful methods which are imread which is used to read images and imshow which is used to display the image.\n",
    "\n",
    "Below are some examples which illustrate various operations on images using matplotlib library:"
   ]
  },
  {
   "cell_type": "markdown",
   "metadata": {
    "id": "jeih1Wp4f-e2"
   },
   "source": [
    "In this example, the program reads an image using the matplotlib.image.imread() and displays that image using matplotlib.image.imshow()."
   ]
  },
  {
   "cell_type": "code",
   "execution_count": 5,
   "metadata": {
    "id": "UmiZUlaagQUA"
   },
   "outputs": [
    {
     "data": {
      "text/plain": [
       "<matplotlib.image.AxesImage at 0x7fd5d2013f10>"
      ]
     },
     "execution_count": 5,
     "metadata": {},
     "output_type": "execute_result"
    },
    {
     "data": {
      "image/png": "[encoded data removed]",
      "text/plain": [
       "<Figure size 432x288 with 1 Axes>"
      ]
     },
     "metadata": {
      "needs_background": "light"
     },
     "output_type": "display_data"
    }
   ],
   "source": [
    "# importing required libraries\n",
    "import matplotlib.pyplot as plt\n",
    "import matplotlib.image as img\n",
    "\n",
    "# reading the image\n",
    "testImage = img.imread('Desktop/image1.jpg')\n",
    "\n",
    "# displaying the image\n",
    "plt.imshow(testImage)\n"
   ]
  },
  {
   "cell_type": "markdown",
   "metadata": {
    "id": "R7nOTnAggXy8"
   },
   "source": [
    "The below program reads an image and then represents the image in array.\n",
    "\n",
    "Any image is made up of arrays and numbers -> each pixel's color value is represented in terms of pixels"
   ]
  },
  {
   "cell_type": "code",
   "execution_count": 6,
   "metadata": {
    "id": "q98byvUjgtXm"
   },
   "outputs": [
    {
     "name": "stdout",
     "output_type": "stream",
     "text": [
      "[[[255 255 255]\n",
      "  [255 255 255]\n",
      "  [255 255 255]\n",
      "  ...\n",
      "  [255 255 255]\n",
      "  [255 255 255]\n",
      "  [255 255 255]]\n",
      "\n",
      " [[255 255 255]\n",
      "  [255 255 255]\n",
      "  [255 255 255]\n",
      "  ...\n",
      "  [255 255 255]\n",
      "  [255 255 255]\n",
      "  [255 255 255]]\n",
      "\n",
      " [[255 255 255]\n",
      "  [255 255 255]\n",
      "  [255 255 255]\n",
      "  ...\n",
      "  [255 255 255]\n",
      "  [255 255 255]\n",
      "  [255 255 255]]\n",
      "\n",
      " ...\n",
      "\n",
      " [[255 255 255]\n",
      "  [255 255 255]\n",
      "  [255 255 255]\n",
      "  ...\n",
      "  [255 255 255]\n",
      "  [255 255 255]\n",
      "  [255 255 255]]\n",
      "\n",
      " [[255 255 255]\n",
      "  [255 255 255]\n",
      "  [255 255 255]\n",
      "  ...\n",
      "  [255 255 255]\n",
      "  [255 255 255]\n",
      "  [255 255 255]]\n",
      "\n",
      " [[255 255 255]\n",
      "  [255 255 255]\n",
      "  [255 255 255]\n",
      "  ...\n",
      "  [255 255 255]\n",
      "  [255 255 255]\n",
      "  [255 255 255]]]\n"
     ]
    }
   ],
   "source": [
    "# importing required libraries\n",
    "import matplotlib.pyplot as plt\n",
    "import matplotlib.image as img\n",
    "\n",
    "# reading the image\n",
    "testImage = img.imread('Desktop/image1.jpg')\n",
    "\n",
    "# displaying the image as an array\n",
    "print(testImage)\n"
   ]
  },
  {
   "cell_type": "markdown",
   "metadata": {
    "id": "rCu2GTFSg6b8"
   },
   "source": [
    "Here, the shape of the image is (225, 225, 3) which represents (height, width, mode) of the image, for colored image mode value is from 0 to 2 and for black and white image mode value is 0 and 1 only. In the output image, only the mode of the image is modified."
   ]
  },
  {
   "cell_type": "markdown",
   "metadata": {},
   "source": [
    "### Slicing of Image"
   ]
  },
  {
   "cell_type": "code",
   "execution_count": 7,
   "metadata": {
    "id": "9SmvOLyPg_wG"
   },
   "outputs": [
    {
     "name": "stdout",
     "output_type": "stream",
     "text": [
      "(720, 1280, 3)\n",
      "(300, 600, 3)\n"
     ]
    },
    {
     "data": {
      "text/plain": [
       "<matplotlib.image.AxesImage at 0x7fd5d1fbe730>"
      ]
     },
     "execution_count": 7,
     "metadata": {},
     "output_type": "execute_result"
    },
    {
     "data": {
      "image/png": "[encoded data removed]",
      "text/plain": [
       "<Figure size 432x288 with 1 Axes>"
      ]
     },
     "metadata": {
      "needs_background": "light"
     },
     "output_type": "display_data"
    }
   ],
   "source": [
    "\n",
    "# importing required libraries\n",
    "import matplotlib.pyplot as plt\n",
    "import matplotlib.image as img\n",
    "  \n",
    "# reading the image\n",
    "testImage = img.imread('Desktop/image1.jpg')\n",
    "  \n",
    "# displaying the shape of the image\n",
    "print(testImage.shape)\n",
    "  \n",
    "# modifying the shape of the image\n",
    "modifiedImage = testImage[200:500, 200:800]\n",
    "\n",
    "# displaying the shape of the image\n",
    "print(modifiedImage.shape)\n",
    "  \n",
    "# displaying the modified image\n",
    "plt.imshow(modifiedImage)"
   ]
  },
  {
   "cell_type": "markdown",
   "metadata": {
    "id": "woRudzVMhXDs"
   },
   "source": [
    "### Conversion from BGR to RGB format using cvtColor() function of OpenCV"
   ]
  },
  {
   "cell_type": "code",
   "execution_count": 8,
   "metadata": {
    "id": "ArfD-ahehogc"
   },
   "outputs": [
    {
     "data": {
      "text/plain": [
       "<matplotlib.image.AxesImage at 0x7fd5d1f14f70>"
      ]
     },
     "execution_count": 8,
     "metadata": {},
     "output_type": "execute_result"
    },
    {
     "data": {
      "image/png": "[encoded data removed]",
      "text/plain": [
       "<Figure size 432x288 with 1 Axes>"
      ]
     },
     "metadata": {
      "needs_background": "light"
     },
     "output_type": "display_data"
    }
   ],
   "source": [
    "# Converting OpenCV read image (BGR format) to RGB format and ploting using matplotlib\n",
    "# Here cvtColor function accepts the image and the colour conversion code\n",
    "img = cv2.cvtColor(image, cv2.COLOR_BGR2RGB)\n",
    "plt.imshow(img)"
   ]
  },
  {
   "cell_type": "code",
   "execution_count": 9,
   "metadata": {
    "id": "JLp4srXPiFis"
   },
   "outputs": [
    {
     "name": "stdout",
     "output_type": "stream",
     "text": [
      "<class 'numpy.ndarray'>\n",
      "<class 'numpy.ndarray'>\n"
     ]
    }
   ],
   "source": [
    "# images -> these are NUMPY arrays\n",
    "print(type(image))\n",
    "print(type(img))\n"
   ]
  },
  {
   "cell_type": "markdown",
   "metadata": {
    "id": "FedkVt4kh9vE"
   },
   "source": [
    "1. Here each image object i.e. the images are numpy arrays.\n",
    "2. ndarray means a n dimensional array"
   ]
  },
  {
   "cell_type": "code",
   "execution_count": 10,
   "metadata": {
    "id": "ceCPeofGiTR8"
   },
   "outputs": [
    {
     "name": "stdout",
     "output_type": "stream",
     "text": [
      "uint8\n"
     ]
    }
   ],
   "source": [
    "# Data type of elements in numpy array which represents an image\n",
    "# print(img.dtype)\n",
    "print(image.dtype)"
   ]
  },
  {
   "cell_type": "markdown",
   "metadata": {
    "id": "1SfPUS96iYWv"
   },
   "source": [
    "### Resizing the Image"
   ]
  },
  {
   "cell_type": "code",
   "execution_count": 11,
   "metadata": {
    "id": "KOP4pN0uivc8"
   },
   "outputs": [],
   "source": [
    "# resize() function takes 2 parameters,\n",
    "# the image and the dimensions\n",
    "resize = cv2.resize(image, (500,1000))\n",
    "cv2.imshow('sample_image',resize)\n",
    "\n",
    "cv2.waitKey(0)\n",
    "cv2.destroyAllWindows()"
   ]
  },
  {
   "cell_type": "markdown",
   "metadata": {
    "id": "jLvGWm_tizLF"
   },
   "source": [
    "The problem with this approach is that the aspect ratio of the image is not maintained. So we need to do some extra work in order to maintain a proper aspect ratio."
   ]
  },
  {
   "cell_type": "markdown",
   "metadata": {
    "id": "U7BFhvjxi7n0"
   },
   "source": [
    "### Drawing a Rectangle\n",
    "It is an in-place operation."
   ]
  },
  {
   "cell_type": "markdown",
   "metadata": {
    "id": "NoPwSh1fkHHM"
   },
   "source": [
    "OpenCV-Python is a library of Python bindings designed to solve computer vision problems. cv2.rectangle() method is used to draw a rectangle on any image.\n",
    "\n",
    "Syntax: cv2.rectangle(image, start_point, end_point, color, thickness)\n",
    "\n",
    "Parameters:\n",
    "- image: It is the image on which rectangle is to be drawn.\n",
    "- start_point: It is the starting coordinates of rectangle. The coordinates are represented as tuples of two values i.e. (X coordinate value, Y coordinate value).\n",
    "- end_point: It is the ending coordinates of rectangle. The coordinates are represented as tuples of two values i.e. (X coordinate value, Y coordinate value).\n",
    "- color: It is the color of border line of rectangle to be drawn. For BGR, we pass a tuple. eg: (255, 0, 0) for blue color.\n",
    "- thickness: It is the thickness of the rectangle border line in px. Thickness of -1 px will fill the rectangle shape by the specified color.\n",
    "\n",
    "Return Value: It returns an image."
   ]
  },
  {
   "cell_type": "code",
   "execution_count": 12,
   "metadata": {
    "id": "7jvY_0GfjDLk"
   },
   "outputs": [],
   "source": [
    "# We are copying the original image,\n",
    "# as it is an in-place operation.\n",
    "output = image.copy()\n",
    "\n",
    "# Using the rectangle() function to create a rectangle.\n",
    "rectangle = cv2.rectangle(output, (500, 500),(600, 400), (255, 0, 0), 2)\n",
    "cv2.imshow('sample_image',rectangle)\n",
    "\n",
    "cv2.waitKey(0)\n",
    "cv2.destroyAllWindows()\n"
   ]
  },
  {
   "cell_type": "markdown",
   "metadata": {
    "id": "-jcWAMSfkTDj"
   },
   "source": [
    "### Displaying text\n",
    "It is also an in-place operation"
   ]
  },
  {
   "cell_type": "markdown",
   "metadata": {
    "id": "wItzkkyvkWY7"
   },
   "source": [
    "It takes in 7 arguments –\n",
    "\n",
    "- Image\n",
    "- Text to be displayed\n",
    "- Bottom-left corner co-ordinates, from where the text should start\n",
    "- Font\n",
    "- Font size\n",
    "- Color (BGR format)\n",
    "- Line width"
   ]
  },
  {
   "cell_type": "code",
   "execution_count": 13,
   "metadata": {
    "id": "wlHng888jG9r"
   },
   "outputs": [],
   "source": [
    "# Copying the original image\n",
    "output = image.copy()\n",
    "\n",
    "# Adding the text using putText() function\n",
    "text = cv2.putText(output, 'OpenCV Demo', (500, 550),cv2.FONT_HERSHEY_SIMPLEX, 3, (255, 0, 0), 2)\n",
    "cv2.imshow('sample_image',text)\n",
    "\n",
    "cv2.waitKey(0)\n",
    "cv2.destroyAllWindows()"
   ]
  },
  {
   "cell_type": "code",
   "execution_count": null,
   "metadata": {},
   "outputs": [],
   "source": []
  }
 ],
 "metadata": {
  "colab": {
   "name": "Untitled8.ipynb",
   "provenance": []
  },
  "kernelspec": {
   "display_name": "Python 3",
   "language": "python",
   "name": "python3"
  },
  "language_info": {
   "codemirror_mode": {
    "name": "ipython",
    "version": 3
   },
   "file_extension": ".py",
   "mimetype": "text/x-python",
   "name": "python",
   "nbconvert_exporter": "python",
   "pygments_lexer": "ipython3",
   "version": "3.8.8"
  }
 },
 "nbformat": 4,
 "nbformat_minor": 1
}
